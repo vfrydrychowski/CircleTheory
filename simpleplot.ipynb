{
 "cells": [
  {
   "cell_type": "code",
   "execution_count": 1,
   "metadata": {},
   "outputs": [
    {
     "name": "stdout",
     "output_type": "stream",
     "text": [
      "test\n"
     ]
    }
   ],
   "source": [
    "print(\"test\")"
   ]
  },
  {
   "cell_type": "code",
   "execution_count": 2,
   "metadata": {},
   "outputs": [],
   "source": [
    "import mido"
   ]
  },
  {
   "cell_type": "code",
   "execution_count": 3,
   "metadata": {},
   "outputs": [],
   "source": [
    "midi_file = mido.MidiFile('./one_note_quantize.mid')"
   ]
  },
  {
   "cell_type": "code",
   "execution_count": 4,
   "metadata": {},
   "outputs": [
    {
     "data": {
      "text/plain": [
       "MidiFile(type=1, ticks_per_beat=690, tracks=[\n",
       "  MidiTrack([\n",
       "    MetaMessage('track_name', name='one_note_quantize', time=0),\n",
       "    MetaMessage('time_signature', numerator=4, denominator=4, clocks_per_click=24, notated_32nd_notes_per_beat=8, time=0),\n",
       "    MetaMessage('set_tempo', tempo=384615, time=0),\n",
       "    MetaMessage('marker', text='nombreux anglele', time=1610),\n",
       "    MetaMessage('marker', text='', time=493580),\n",
       "    MetaMessage('time_signature', numerator=3, denominator=4, clocks_per_click=24, notated_32nd_notes_per_beat=8, time=459770),\n",
       "    MetaMessage('key_signature', key='Dm', time=0),\n",
       "    MetaMessage('set_tempo', tempo=333334, time=0),\n",
       "    MetaMessage('set_tempo', tempo=333334, time=16560),\n",
       "    MetaMessage('set_tempo', tempo=333334, time=11385),\n",
       "    MetaMessage('set_tempo', tempo=335300, time=122),\n",
       "    MetaMessage('set_tempo', tempo=337176, time=123),\n",
       "    MetaMessage('set_tempo', tempo=339074, time=122),\n",
       "    MetaMessage('set_tempo', tempo=340993, time=123),\n",
       "    MetaMessage('set_tempo', tempo=342935, time=123),\n",
       "    MetaMessage('set_tempo', tempo=344898, time=122),\n",
       "    MetaMessage('set_tempo', tempo=345829, time=123),\n",
       "    MetaMessage('set_tempo', tempo=333334, time=349),\n",
       "    MetaMessage('set_tempo', tempo=333334, time=59858),\n",
       "    MetaMessage('set_tempo', tempo=345829, time=196),\n",
       "    MetaMessage('set_tempo', tempo=359299, time=197),\n",
       "    MetaMessage('set_tempo', tempo=373859, time=197),\n",
       "    MetaMessage('set_tempo', tempo=389651, time=197),\n",
       "    MetaMessage('set_tempo', tempo=406834, time=196),\n",
       "    MetaMessage('set_tempo', tempo=425604, time=197),\n",
       "    MetaMessage('set_tempo', tempo=1906935, time=197),\n",
       "    MetaMessage('set_tempo', tempo=333334, time=693),\n",
       "    MetaMessage('set_tempo', tempo=333334, time=16560),\n",
       "    MetaMessage('set_tempo', tempo=333334, time=11385),\n",
       "    MetaMessage('set_tempo', tempo=335300, time=122),\n",
       "    MetaMessage('set_tempo', tempo=337176, time=123),\n",
       "    MetaMessage('set_tempo', tempo=339074, time=122),\n",
       "    MetaMessage('set_tempo', tempo=340993, time=123),\n",
       "    MetaMessage('set_tempo', tempo=342935, time=123),\n",
       "    MetaMessage('set_tempo', tempo=344898, time=122),\n",
       "    MetaMessage('set_tempo', tempo=345829, time=123),\n",
       "    MetaMessage('set_tempo', tempo=333334, time=349),\n",
       "    MetaMessage('set_tempo', tempo=333334, time=59858),\n",
       "    MetaMessage('set_tempo', tempo=345829, time=196),\n",
       "    MetaMessage('set_tempo', tempo=359299, time=197),\n",
       "    MetaMessage('set_tempo', tempo=373859, time=197),\n",
       "    MetaMessage('set_tempo', tempo=389651, time=197),\n",
       "    MetaMessage('set_tempo', tempo=406834, time=196),\n",
       "    MetaMessage('set_tempo', tempo=425604, time=197),\n",
       "    MetaMessage('set_tempo', tempo=1906935, time=197),\n",
       "    MetaMessage('set_tempo', tempo=333334, time=693),\n",
       "    MetaMessage('end_of_track', time=0)]),\n",
       "  MidiTrack([\n",
       "    MetaMessage('track_name', name='Instrument Track 01', time=0),\n",
       "    Message('note_on', channel=0, note=62, velocity=102, time=971520),\n",
       "    Message('note_on', channel=0, note=62, velocity=0, time=345),\n",
       "    Message('note_on', channel=0, note=65, velocity=102, time=0),\n",
       "    Message('note_on', channel=0, note=65, velocity=0, time=345),\n",
       "    Message('note_on', channel=0, note=74, velocity=102, time=0),\n",
       "    Message('note_on', channel=0, note=74, velocity=0, time=1380),\n",
       "    Message('note_on', channel=0, note=62, velocity=102, time=0),\n",
       "    Message('note_on', channel=0, note=62, velocity=0, time=345),\n",
       "    Message('note_on', channel=0, note=65, velocity=102, time=0),\n",
       "    Message('note_on', channel=0, note=65, velocity=0, time=345),\n",
       "    Message('note_on', channel=0, note=74, velocity=102, time=0),\n",
       "    Message('note_on', channel=0, note=74, velocity=0, time=1380),\n",
       "    Message('note_on', channel=0, note=76, velocity=102, time=0),\n",
       "    Message('note_on', channel=0, note=76, velocity=0, time=1035),\n",
       "    Message('note_on', channel=0, note=77, velocity=102, time=0),\n",
       "    Message('note_on', channel=0, note=77, velocity=0, time=345),\n",
       "    Message('note_on', channel=0, note=76, velocity=102, time=0),\n",
       "    Message('note_on', channel=0, note=76, velocity=0, time=345),\n",
       "    Message('note_on', channel=0, note=77, velocity=102, time=0),\n",
       "    Message('note_on', channel=0, note=77, velocity=0, time=345),\n",
       "    Message('note_on', channel=0, note=76, velocity=102, time=0),\n",
       "    Message('note_on', channel=0, note=76, velocity=0, time=345),\n",
       "    Message('note_on', channel=0, note=72, velocity=102, time=0),\n",
       "    Message('note_on', channel=0, note=72, velocity=0, time=345),\n",
       "    Message('note_on', channel=0, note=69, velocity=102, time=0),\n",
       "    Message('note_on', channel=0, note=69, velocity=0, time=1380),\n",
       "    Message('note_on', channel=0, note=69, velocity=102, time=0),\n",
       "    Message('note_on', channel=0, note=69, velocity=0, time=690),\n",
       "    Message('note_on', channel=0, note=62, velocity=102, time=0),\n",
       "    Message('note_on', channel=0, note=62, velocity=0, time=690),\n",
       "    Message('note_on', channel=0, note=65, velocity=102, time=0),\n",
       "    Message('note_on', channel=0, note=65, velocity=0, time=345),\n",
       "    Message('note_on', channel=0, note=67, velocity=102, time=0),\n",
       "    Message('note_on', channel=0, note=67, velocity=0, time=345),\n",
       "    Message('note_on', channel=0, note=69, velocity=102, time=0),\n",
       "    Message('note_on', channel=0, note=69, velocity=0, time=2070),\n",
       "    Message('note_on', channel=0, note=69, velocity=102, time=0),\n",
       "    Message('note_on', channel=0, note=69, velocity=0, time=690),\n",
       "    Message('note_on', channel=0, note=62, velocity=102, time=0),\n",
       "    Message('note_on', channel=0, note=62, velocity=0, time=690),\n",
       "    Message('note_on', channel=0, note=65, velocity=102, time=0),\n",
       "    Message('note_on', channel=0, note=65, velocity=0, time=345),\n",
       "    Message('note_on', channel=0, note=67, velocity=102, time=0),\n",
       "    Message('note_on', channel=0, note=67, velocity=0, time=345),\n",
       "    Message('note_on', channel=0, note=64, velocity=97, time=0),\n",
       "    Message('note_on', channel=0, note=64, velocity=0, time=2070),\n",
       "    Message('note_on', channel=0, note=62, velocity=102, time=0),\n",
       "    Message('note_on', channel=0, note=62, velocity=0, time=345),\n",
       "    Message('note_on', channel=0, note=65, velocity=102, time=0),\n",
       "    Message('note_on', channel=0, note=65, velocity=0, time=345),\n",
       "    Message('note_on', channel=0, note=74, velocity=102, time=0),\n",
       "    Message('note_on', channel=0, note=74, velocity=0, time=1380),\n",
       "    Message('note_on', channel=0, note=62, velocity=102, time=0),\n",
       "    Message('note_on', channel=0, note=62, velocity=0, time=345),\n",
       "    Message('note_on', channel=0, note=65, velocity=102, time=0),\n",
       "    Message('note_on', channel=0, note=65, velocity=0, time=345),\n",
       "    Message('note_on', channel=0, note=74, velocity=102, time=0),\n",
       "    Message('note_on', channel=0, note=74, velocity=0, time=1380),\n",
       "    Message('note_on', channel=0, note=76, velocity=102, time=0),\n",
       "    Message('note_on', channel=0, note=76, velocity=0, time=1035),\n",
       "    Message('note_on', channel=0, note=77, velocity=102, time=0),\n",
       "    Message('note_on', channel=0, note=77, velocity=0, time=345),\n",
       "    Message('note_on', channel=0, note=76, velocity=102, time=0),\n",
       "    Message('note_on', channel=0, note=76, velocity=0, time=345),\n",
       "    Message('note_on', channel=0, note=77, velocity=102, time=0),\n",
       "    Message('note_on', channel=0, note=77, velocity=0, time=345),\n",
       "    Message('note_on', channel=0, note=76, velocity=102, time=0),\n",
       "    Message('note_on', channel=0, note=76, velocity=0, time=345),\n",
       "    Message('note_on', channel=0, note=72, velocity=102, time=0),\n",
       "    Message('note_on', channel=0, note=72, velocity=0, time=345),\n",
       "    Message('note_on', channel=0, note=69, velocity=102, time=0),\n",
       "    Message('note_on', channel=0, note=69, velocity=0, time=1380),\n",
       "    Message('note_on', channel=0, note=69, velocity=102, time=0),\n",
       "    Message('note_on', channel=0, note=69, velocity=0, time=690),\n",
       "    Message('note_on', channel=0, note=62, velocity=102, time=0),\n",
       "    Message('note_on', channel=0, note=62, velocity=0, time=690),\n",
       "    Message('note_on', channel=0, note=65, velocity=102, time=0),\n",
       "    Message('note_on', channel=0, note=65, velocity=0, time=345),\n",
       "    Message('note_on', channel=0, note=67, velocity=102, time=0),\n",
       "    Message('note_on', channel=0, note=67, velocity=0, time=345),\n",
       "    Message('note_on', channel=0, note=69, velocity=102, time=0),\n",
       "    Message('note_on', channel=0, note=69, velocity=0, time=1380),\n",
       "    Message('note_on', channel=0, note=69, velocity=102, time=0),\n",
       "    Message('note_on', channel=0, note=69, velocity=0, time=690),\n",
       "    Message('note_on', channel=0, note=62, velocity=116, time=0),\n",
       "    Message('note_on', channel=0, note=62, velocity=0, time=690),\n",
       "    MetaMessage('end_of_track', time=0)])\n",
       "])"
      ]
     },
     "execution_count": 4,
     "metadata": {},
     "output_type": "execute_result"
    }
   ],
   "source": [
    "midi_file"
   ]
  },
  {
   "cell_type": "code",
   "execution_count": 5,
   "metadata": {},
   "outputs": [
    {
     "name": "stdout",
     "output_type": "stream",
     "text": [
      "note_on channel=0 note=62 velocity=102 time=0\n",
      "note_on channel=0 note=62 velocity=0 time=0.16666699999999998\n",
      "note_on channel=0 note=65 velocity=102 time=0\n",
      "note_on channel=0 note=65 velocity=0 time=0.16666699999999998\n",
      "note_on channel=0 note=74 velocity=102 time=0\n",
      "note_on channel=0 note=74 velocity=0 time=0.6666679999999999\n",
      "note_on channel=0 note=62 velocity=102 time=0\n",
      "note_on channel=0 note=62 velocity=0 time=0.16666699999999998\n",
      "note_on channel=0 note=65 velocity=102 time=0\n",
      "note_on channel=0 note=65 velocity=0 time=0.16666699999999998\n",
      "note_on channel=0 note=74 velocity=102 time=0\n",
      "note_on channel=0 note=74 velocity=0 time=0.6666679999999999\n",
      "note_on channel=0 note=76 velocity=102 time=0\n",
      "note_on channel=0 note=76 velocity=0 time=0.5000009999999999\n",
      "note_on channel=0 note=77 velocity=102 time=0\n",
      "note_on channel=0 note=77 velocity=0 time=0.16666699999999998\n",
      "note_on channel=0 note=76 velocity=102 time=0\n",
      "note_on channel=0 note=76 velocity=0 time=0.16666699999999998\n",
      "note_on channel=0 note=77 velocity=102 time=0\n",
      "note_on channel=0 note=77 velocity=0 time=0.16666699999999998\n",
      "note_on channel=0 note=76 velocity=102 time=0\n",
      "note_on channel=0 note=76 velocity=0 time=0.16666699999999998\n",
      "note_on channel=0 note=72 velocity=102 time=0\n",
      "note_on channel=0 note=72 velocity=0 time=0.16666699999999998\n",
      "note_on channel=0 note=69 velocity=102 time=0\n",
      "note_on channel=0 note=69 velocity=0 time=0.6666679999999999\n",
      "note_on channel=0 note=69 velocity=102 time=0\n",
      "note_on channel=0 note=69 velocity=0 time=0.33333399999999996\n",
      "note_on channel=0 note=62 velocity=102 time=0\n",
      "note_on channel=0 note=62 velocity=0 time=0.33333399999999996\n",
      "note_on channel=0 note=65 velocity=102 time=0\n",
      "note_on channel=0 note=65 velocity=0 time=0.16666699999999998\n",
      "note_on channel=0 note=67 velocity=102 time=0\n",
      "note_on channel=0 note=67 velocity=0 time=0.16666699999999998\n",
      "note_on channel=0 note=69 velocity=102 time=0\n",
      "note_on channel=0 note=69 velocity=0 time=0.08871265652173912\n",
      "note_on channel=0 note=69 velocity=102 time=0\n",
      "note_on channel=0 note=69 velocity=0 time=0.2502420463768116\n",
      "note_on channel=0 note=62 velocity=102 time=0\n",
      "note_on channel=0 note=62 velocity=0 time=0.33333399999999996\n",
      "note_on channel=0 note=65 velocity=102 time=0\n",
      "note_on channel=0 note=65 velocity=0 time=0.16666699999999998\n",
      "note_on channel=0 note=67 velocity=102 time=0\n",
      "note_on channel=0 note=67 velocity=0 time=0.16666699999999998\n",
      "note_on channel=0 note=64 velocity=97 time=0\n",
      "note_on channel=0 note=64 velocity=0 time=1.0000019999999998\n",
      "note_on channel=0 note=62 velocity=102 time=0\n",
      "note_on channel=0 note=62 velocity=0 time=0.16666699999999998\n",
      "note_on channel=0 note=65 velocity=102 time=0\n",
      "note_on channel=0 note=65 velocity=0 time=0.16666699999999998\n",
      "note_on channel=0 note=74 velocity=102 time=0\n",
      "note_on channel=0 note=74 velocity=0 time=0.6666679999999999\n",
      "note_on channel=0 note=62 velocity=102 time=0\n",
      "note_on channel=0 note=62 velocity=0 time=0.16666699999999998\n",
      "note_on channel=0 note=65 velocity=102 time=0\n",
      "note_on channel=0 note=65 velocity=0 time=0.16666699999999998\n",
      "note_on channel=0 note=74 velocity=102 time=0\n",
      "note_on channel=0 note=74 velocity=0 time=0.6666679999999999\n",
      "note_on channel=0 note=76 velocity=102 time=0\n",
      "note_on channel=0 note=76 velocity=0 time=0.5000009999999999\n",
      "note_on channel=0 note=77 velocity=102 time=0\n",
      "note_on channel=0 note=77 velocity=0 time=0.16666699999999998\n",
      "note_on channel=0 note=76 velocity=102 time=0\n",
      "note_on channel=0 note=76 velocity=0 time=0.16666699999999998\n",
      "note_on channel=0 note=77 velocity=102 time=0\n",
      "note_on channel=0 note=77 velocity=0 time=0.16666699999999998\n",
      "note_on channel=0 note=76 velocity=102 time=0\n",
      "note_on channel=0 note=76 velocity=0 time=0.16666699999999998\n",
      "note_on channel=0 note=72 velocity=102 time=0\n",
      "note_on channel=0 note=72 velocity=0 time=0.16666699999999998\n",
      "note_on channel=0 note=69 velocity=102 time=0\n",
      "note_on channel=0 note=69 velocity=0 time=0.6666679999999999\n",
      "note_on channel=0 note=69 velocity=102 time=0\n",
      "note_on channel=0 note=69 velocity=0 time=0.33333399999999996\n",
      "note_on channel=0 note=62 velocity=102 time=0\n",
      "note_on channel=0 note=62 velocity=0 time=0.33333399999999996\n",
      "note_on channel=0 note=65 velocity=102 time=0\n",
      "note_on channel=0 note=65 velocity=0 time=0.16666699999999998\n",
      "note_on channel=0 note=67 velocity=102 time=0\n",
      "note_on channel=0 note=67 velocity=0 time=0.16666699999999998\n",
      "note_on channel=0 note=69 velocity=102 time=0\n",
      "note_on channel=0 note=69 velocity=0 time=0.6666679999999999\n",
      "note_on channel=0 note=69 velocity=102 time=0\n",
      "note_on channel=0 note=69 velocity=0 time=0.33333399999999996\n",
      "note_on channel=0 note=62 velocity=116 time=0\n",
      "note_on channel=0 note=62 velocity=0 time=0.33333399999999996\n"
     ]
    }
   ],
   "source": [
    "for msg in midi_file:\n",
    "    if msg.__class__ == mido.Message:\n",
    "        print(msg)"
   ]
  },
  {
   "cell_type": "code",
   "execution_count": 6,
   "metadata": {},
   "outputs": [],
   "source": [
    "import umidiparser as midi"
   ]
  },
  {
   "cell_type": "code",
   "execution_count": 7,
   "metadata": {},
   "outputs": [],
   "source": [
    "mf = midi.MidiFile(\"./one_note_quantize.mid\", buffer_size=0)"
   ]
  },
  {
   "cell_type": "code",
   "execution_count": 8,
   "metadata": {},
   "outputs": [
    {
     "name": "stdout",
     "output_type": "stream",
     "text": [
      "track_name delta[miditicks]=0 data=b'one_n...' delta[usec]=0 name=one_note_quantize status=3\n",
      "time_signature delta[miditicks]=0 data=b'\\x04\\x02\\x18\\x08' delta[usec]=0 clocks_per_click=24 denominator=4 notated_32nd_notes_per_beat=8 numerator=4 status=88\n",
      "set_tempo delta[miditicks]=0 data=b'\\x05\\xdeg' delta[usec]=0 status=81 tempo=384615\n",
      "track_name delta[miditicks]=0 data=b'Instr...' delta[usec]=0 name=Instrument Track 01 status=3\n",
      "marker delta[miditicks]=1610 data=b'nombr...' delta[usec]=897435 status=6 text=nombreux anglele\n",
      "marker delta[miditicks]=493580 data=b'' delta[usec]=275127930 status=6 text=\n",
      "time_signature delta[miditicks]=459770 data=b'\\x03\\x02\\x18\\x08' delta[usec]=256281795 clocks_per_click=24 denominator=4 notated_32nd_notes_per_beat=8 numerator=3 status=88\n",
      "key_signature delta[miditicks]=0 data=b'\\xff\\x01' delta[usec]=0 key=Dm status=89\n",
      "set_tempo delta[miditicks]=0 data=b'\\x05\\x16\\x16' delta[usec]=0 status=81 tempo=333334\n",
      "set_tempo delta[miditicks]=16560 data=b'\\x05\\x16\\x16' delta[usec]=8000016 status=81 tempo=333334\n",
      "note_on delta[miditicks]=0 data=b'>f' delta[usec]=0 channel=0 note=62 status=144 velocity=102\n",
      "note_on delta[miditicks]=345 data=b'>\\x00' delta[usec]=166667 channel=0 note=62 status=144 velocity=0\n",
      "note_on delta[miditicks]=0 data=b'Af' delta[usec]=0 channel=0 note=65 status=144 velocity=102\n",
      "note_on delta[miditicks]=345 data=b'A\\x00' delta[usec]=166667 channel=0 note=65 status=144 velocity=0\n",
      "note_on delta[miditicks]=0 data=b'Jf' delta[usec]=0 channel=0 note=74 status=144 velocity=102\n",
      "note_on delta[miditicks]=1380 data=b'J\\x00' delta[usec]=666668 channel=0 note=74 status=144 velocity=0\n",
      "note_on delta[miditicks]=0 data=b'>f' delta[usec]=0 channel=0 note=62 status=144 velocity=102\n",
      "note_on delta[miditicks]=345 data=b'>\\x00' delta[usec]=166667 channel=0 note=62 status=144 velocity=0\n",
      "note_on delta[miditicks]=0 data=b'Af' delta[usec]=0 channel=0 note=65 status=144 velocity=102\n",
      "note_on delta[miditicks]=345 data=b'A\\x00' delta[usec]=166667 channel=0 note=65 status=144 velocity=0\n",
      "note_on delta[miditicks]=0 data=b'Jf' delta[usec]=0 channel=0 note=74 status=144 velocity=102\n",
      "note_on delta[miditicks]=1380 data=b'J\\x00' delta[usec]=666668 channel=0 note=74 status=144 velocity=0\n",
      "note_on delta[miditicks]=0 data=b'Lf' delta[usec]=0 channel=0 note=76 status=144 velocity=102\n",
      "note_on delta[miditicks]=1035 data=b'L\\x00' delta[usec]=500001 channel=0 note=76 status=144 velocity=0\n",
      "note_on delta[miditicks]=0 data=b'Mf' delta[usec]=0 channel=0 note=77 status=144 velocity=102\n",
      "note_on delta[miditicks]=345 data=b'M\\x00' delta[usec]=166667 channel=0 note=77 status=144 velocity=0\n",
      "note_on delta[miditicks]=0 data=b'Lf' delta[usec]=0 channel=0 note=76 status=144 velocity=102\n",
      "note_on delta[miditicks]=345 data=b'L\\x00' delta[usec]=166667 channel=0 note=76 status=144 velocity=0\n",
      "note_on delta[miditicks]=0 data=b'Mf' delta[usec]=0 channel=0 note=77 status=144 velocity=102\n",
      "note_on delta[miditicks]=345 data=b'M\\x00' delta[usec]=166667 channel=0 note=77 status=144 velocity=0\n",
      "note_on delta[miditicks]=0 data=b'Lf' delta[usec]=0 channel=0 note=76 status=144 velocity=102\n",
      "note_on delta[miditicks]=345 data=b'L\\x00' delta[usec]=166667 channel=0 note=76 status=144 velocity=0\n",
      "note_on delta[miditicks]=0 data=b'Hf' delta[usec]=0 channel=0 note=72 status=144 velocity=102\n",
      "note_on delta[miditicks]=345 data=b'H\\x00' delta[usec]=166667 channel=0 note=72 status=144 velocity=0\n",
      "note_on delta[miditicks]=0 data=b'Ef' delta[usec]=0 channel=0 note=69 status=144 velocity=102\n",
      "note_on delta[miditicks]=1380 data=b'E\\x00' delta[usec]=666668 channel=0 note=69 status=144 velocity=0\n",
      "note_on delta[miditicks]=0 data=b'Ef' delta[usec]=0 channel=0 note=69 status=144 velocity=102\n",
      "note_on delta[miditicks]=690 data=b'E\\x00' delta[usec]=333334 channel=0 note=69 status=144 velocity=0\n",
      "note_on delta[miditicks]=0 data=b'>f' delta[usec]=0 channel=0 note=62 status=144 velocity=102\n",
      "note_on delta[miditicks]=690 data=b'>\\x00' delta[usec]=333334 channel=0 note=62 status=144 velocity=0\n",
      "note_on delta[miditicks]=0 data=b'Af' delta[usec]=0 channel=0 note=65 status=144 velocity=102\n",
      "note_on delta[miditicks]=345 data=b'A\\x00' delta[usec]=166667 channel=0 note=65 status=144 velocity=0\n",
      "note_on delta[miditicks]=0 data=b'Cf' delta[usec]=0 channel=0 note=67 status=144 velocity=102\n",
      "note_on delta[miditicks]=345 data=b'C\\x00' delta[usec]=166667 channel=0 note=67 status=144 velocity=0\n",
      "note_on delta[miditicks]=0 data=b'Ef' delta[usec]=0 channel=0 note=69 status=144 velocity=102\n",
      "set_tempo delta[miditicks]=1035 data=b'\\x05\\x16\\x16' delta[usec]=500001 status=81 tempo=333334\n",
      "set_tempo delta[miditicks]=122 data=b'\\x05\\x1d\\xc4' delta[usec]=58937 status=81 tempo=335300\n",
      "set_tempo delta[miditicks]=123 data=b'\\x05%\\x18' delta[usec]=59771 status=81 tempo=337176\n",
      "set_tempo delta[miditicks]=122 data=b'\\x05,\\x82' delta[usec]=59617 status=81 tempo=339074\n",
      "set_tempo delta[miditicks]=123 data=b'\\x054\\x01' delta[usec]=60444 status=81 tempo=340993\n",
      "set_tempo delta[miditicks]=123 data=b'\\x05;\\x97' delta[usec]=60786 status=81 tempo=342935\n",
      "set_tempo delta[miditicks]=122 data=b'\\x05CB' delta[usec]=60635 status=81 tempo=344898\n",
      "set_tempo delta[miditicks]=123 data=b'\\x05F\\xe5' delta[usec]=61482 status=81 tempo=345829\n",
      "note_on delta[miditicks]=177 data=b'E\\x00' delta[usec]=88713 channel=0 note=69 status=144 velocity=0\n",
      "note_on delta[miditicks]=0 data=b'Ef' delta[usec]=0 channel=0 note=69 status=144 velocity=102\n",
      "set_tempo delta[miditicks]=172 data=b'\\x05\\x16\\x16' delta[usec]=86207 status=81 tempo=333334\n",
      "note_on delta[miditicks]=518 data=b'E\\x00' delta[usec]=250242 channel=0 note=69 status=144 velocity=0\n",
      "note_on delta[miditicks]=0 data=b'>f' delta[usec]=0 channel=0 note=62 status=144 velocity=102\n",
      "note_on delta[miditicks]=690 data=b'>\\x00' delta[usec]=333334 channel=0 note=62 status=144 velocity=0\n",
      "note_on delta[miditicks]=0 data=b'Af' delta[usec]=0 channel=0 note=65 status=144 velocity=102\n",
      "note_on delta[miditicks]=345 data=b'A\\x00' delta[usec]=166667 channel=0 note=65 status=144 velocity=0\n",
      "note_on delta[miditicks]=0 data=b'Cf' delta[usec]=0 channel=0 note=67 status=144 velocity=102\n",
      "note_on delta[miditicks]=345 data=b'C\\x00' delta[usec]=166667 channel=0 note=67 status=144 velocity=0\n",
      "note_on delta[miditicks]=0 data=b'@a' delta[usec]=0 channel=0 note=64 status=144 velocity=97\n",
      "note_on delta[miditicks]=2070 data=b'@\\x00' delta[usec]=1000002 channel=0 note=64 status=144 velocity=0\n",
      "note_on delta[miditicks]=0 data=b'>f' delta[usec]=0 channel=0 note=62 status=144 velocity=102\n",
      "note_on delta[miditicks]=345 data=b'>\\x00' delta[usec]=166667 channel=0 note=62 status=144 velocity=0\n",
      "note_on delta[miditicks]=0 data=b'Af' delta[usec]=0 channel=0 note=65 status=144 velocity=102\n",
      "note_on delta[miditicks]=345 data=b'A\\x00' delta[usec]=166667 channel=0 note=65 status=144 velocity=0\n",
      "note_on delta[miditicks]=0 data=b'Jf' delta[usec]=0 channel=0 note=74 status=144 velocity=102\n",
      "note_on delta[miditicks]=1380 data=b'J\\x00' delta[usec]=666668 channel=0 note=74 status=144 velocity=0\n",
      "note_on delta[miditicks]=0 data=b'>f' delta[usec]=0 channel=0 note=62 status=144 velocity=102\n",
      "note_on delta[miditicks]=345 data=b'>\\x00' delta[usec]=166667 channel=0 note=62 status=144 velocity=0\n",
      "note_on delta[miditicks]=0 data=b'Af' delta[usec]=0 channel=0 note=65 status=144 velocity=102\n",
      "note_on delta[miditicks]=345 data=b'A\\x00' delta[usec]=166667 channel=0 note=65 status=144 velocity=0\n",
      "note_on delta[miditicks]=0 data=b'Jf' delta[usec]=0 channel=0 note=74 status=144 velocity=102\n",
      "note_on delta[miditicks]=1380 data=b'J\\x00' delta[usec]=666668 channel=0 note=74 status=144 velocity=0\n",
      "note_on delta[miditicks]=0 data=b'Lf' delta[usec]=0 channel=0 note=76 status=144 velocity=102\n",
      "note_on delta[miditicks]=1035 data=b'L\\x00' delta[usec]=500001 channel=0 note=76 status=144 velocity=0\n",
      "note_on delta[miditicks]=0 data=b'Mf' delta[usec]=0 channel=0 note=77 status=144 velocity=102\n",
      "note_on delta[miditicks]=345 data=b'M\\x00' delta[usec]=166667 channel=0 note=77 status=144 velocity=0\n",
      "note_on delta[miditicks]=0 data=b'Lf' delta[usec]=0 channel=0 note=76 status=144 velocity=102\n",
      "note_on delta[miditicks]=345 data=b'L\\x00' delta[usec]=166667 channel=0 note=76 status=144 velocity=0\n",
      "note_on delta[miditicks]=0 data=b'Mf' delta[usec]=0 channel=0 note=77 status=144 velocity=102\n",
      "note_on delta[miditicks]=345 data=b'M\\x00' delta[usec]=166667 channel=0 note=77 status=144 velocity=0\n",
      "note_on delta[miditicks]=0 data=b'Lf' delta[usec]=0 channel=0 note=76 status=144 velocity=102\n",
      "note_on delta[miditicks]=345 data=b'L\\x00' delta[usec]=166667 channel=0 note=76 status=144 velocity=0\n",
      "note_on delta[miditicks]=0 data=b'Hf' delta[usec]=0 channel=0 note=72 status=144 velocity=102\n",
      "note_on delta[miditicks]=345 data=b'H\\x00' delta[usec]=166667 channel=0 note=72 status=144 velocity=0\n",
      "note_on delta[miditicks]=0 data=b'Ef' delta[usec]=0 channel=0 note=69 status=144 velocity=102\n",
      "note_on delta[miditicks]=1380 data=b'E\\x00' delta[usec]=666668 channel=0 note=69 status=144 velocity=0\n",
      "note_on delta[miditicks]=0 data=b'Ef' delta[usec]=0 channel=0 note=69 status=144 velocity=102\n",
      "note_on delta[miditicks]=690 data=b'E\\x00' delta[usec]=333334 channel=0 note=69 status=144 velocity=0\n",
      "note_on delta[miditicks]=0 data=b'>f' delta[usec]=0 channel=0 note=62 status=144 velocity=102\n",
      "note_on delta[miditicks]=690 data=b'>\\x00' delta[usec]=333334 channel=0 note=62 status=144 velocity=0\n",
      "note_on delta[miditicks]=0 data=b'Af' delta[usec]=0 channel=0 note=65 status=144 velocity=102\n",
      "note_on delta[miditicks]=345 data=b'A\\x00' delta[usec]=166667 channel=0 note=65 status=144 velocity=0\n",
      "note_on delta[miditicks]=0 data=b'Cf' delta[usec]=0 channel=0 note=67 status=144 velocity=102\n",
      "note_on delta[miditicks]=345 data=b'C\\x00' delta[usec]=166667 channel=0 note=67 status=144 velocity=0\n",
      "note_on delta[miditicks]=0 data=b'Ef' delta[usec]=0 channel=0 note=69 status=144 velocity=102\n",
      "note_on delta[miditicks]=1380 data=b'E\\x00' delta[usec]=666668 channel=0 note=69 status=144 velocity=0\n",
      "note_on delta[miditicks]=0 data=b'Ef' delta[usec]=0 channel=0 note=69 status=144 velocity=102\n",
      "note_on delta[miditicks]=690 data=b'E\\x00' delta[usec]=333334 channel=0 note=69 status=144 velocity=0\n",
      "note_on delta[miditicks]=0 data=b'>t' delta[usec]=0 channel=0 note=62 status=144 velocity=116\n",
      "note_on delta[miditicks]=690 data=b'>\\x00' delta[usec]=333334 channel=0 note=62 status=144 velocity=0\n",
      "set_tempo delta[miditicks]=42780 data=b'\\x05\\x16\\x16' delta[usec]=20666708 status=81 tempo=333334\n",
      "set_tempo delta[miditicks]=196 data=b'\\x05F\\xe5' delta[usec]=94686 status=81 tempo=345829\n",
      "set_tempo delta[miditicks]=197 data=b'\\x05{\\x83' delta[usec]=98737 status=81 tempo=359299\n",
      "set_tempo delta[miditicks]=197 data=b'\\x05\\xb4c' delta[usec]=102582 status=81 tempo=373859\n",
      "set_tempo delta[miditicks]=197 data=b'\\x05\\xf2\\x13' delta[usec]=106739 status=81 tempo=389651\n",
      "set_tempo delta[miditicks]=196 data=b'\\x0652' delta[usec]=110683 status=81 tempo=406834\n",
      "set_tempo delta[miditicks]=197 data=b'\\x06~\\x84' delta[usec]=116154 status=81 tempo=425604\n",
      "set_tempo delta[miditicks]=197 data=b'\\x1d\\x18\\xf7' delta[usec]=121513 status=81 tempo=1906935\n",
      "set_tempo delta[miditicks]=693 data=b'\\x05\\x16\\x16' delta[usec]=1915226 status=81 tempo=333334\n",
      "set_tempo delta[miditicks]=16560 data=b'\\x05\\x16\\x16' delta[usec]=8000016 status=81 tempo=333334\n",
      "set_tempo delta[miditicks]=11385 data=b'\\x05\\x16\\x16' delta[usec]=5500011 status=81 tempo=333334\n",
      "set_tempo delta[miditicks]=122 data=b'\\x05\\x1d\\xc4' delta[usec]=58937 status=81 tempo=335300\n",
      "set_tempo delta[miditicks]=123 data=b'\\x05%\\x18' delta[usec]=59771 status=81 tempo=337176\n",
      "set_tempo delta[miditicks]=122 data=b'\\x05,\\x82' delta[usec]=59617 status=81 tempo=339074\n",
      "set_tempo delta[miditicks]=123 data=b'\\x054\\x01' delta[usec]=60444 status=81 tempo=340993\n",
      "set_tempo delta[miditicks]=123 data=b'\\x05;\\x97' delta[usec]=60786 status=81 tempo=342935\n",
      "set_tempo delta[miditicks]=122 data=b'\\x05CB' delta[usec]=60635 status=81 tempo=344898\n",
      "set_tempo delta[miditicks]=123 data=b'\\x05F\\xe5' delta[usec]=61482 status=81 tempo=345829\n",
      "set_tempo delta[miditicks]=349 data=b'\\x05\\x16\\x16' delta[usec]=174919 status=81 tempo=333334\n",
      "set_tempo delta[miditicks]=59858 data=b'\\x05\\x16\\x16' delta[usec]=28916966 status=81 tempo=333334\n",
      "set_tempo delta[miditicks]=196 data=b'\\x05F\\xe5' delta[usec]=94686 status=81 tempo=345829\n",
      "set_tempo delta[miditicks]=197 data=b'\\x05{\\x83' delta[usec]=98737 status=81 tempo=359299\n",
      "set_tempo delta[miditicks]=197 data=b'\\x05\\xb4c' delta[usec]=102582 status=81 tempo=373859\n",
      "set_tempo delta[miditicks]=197 data=b'\\x05\\xf2\\x13' delta[usec]=106739 status=81 tempo=389651\n",
      "set_tempo delta[miditicks]=196 data=b'\\x0652' delta[usec]=110683 status=81 tempo=406834\n",
      "set_tempo delta[miditicks]=197 data=b'\\x06~\\x84' delta[usec]=116154 status=81 tempo=425604\n",
      "set_tempo delta[miditicks]=197 data=b'\\x1d\\x18\\xf7' delta[usec]=121513 status=81 tempo=1906935\n",
      "set_tempo delta[miditicks]=693 data=b'\\x05\\x16\\x16' delta[usec]=1915226 status=81 tempo=333334\n",
      "end_of_track delta[miditicks]=0 data=b'' delta[usec]=0 status=47\n"
     ]
    }
   ],
   "source": [
    "for event in mf:\n",
    "    print(event)"
   ]
  },
  {
   "cell_type": "code",
   "execution_count": 9,
   "metadata": {},
   "outputs": [],
   "source": [
    "from typing import List, Dict\n",
    "\n",
    "\n",
    "\n",
    "def event_to_dict(me: midi.MidiEvent) -> Dict[str, int]:\n",
    "    if (me.status == midi.NOTE_OFF) or (me.status == midi.NOTE_ON) and (me.velocity == 0):\n",
    "        status = 0\n",
    "    elif me.status == midi.NOTE_ON:\n",
    "        status = 1\n",
    "    else:\n",
    "        status = None\n",
    "    return {\n",
    "        \"status\": status,\n",
    "        \"note\": me.note,\n",
    "        \"delta\": me.delta_us,\n",
    "    }\n",
    "\n",
    "def midi_to_list(mf: midi.MidiFile) -> List[Dict[str,float]]:\n",
    "    midi_list: Dict[str, int] = [\n",
    "        event_to_dict(ev) for ev in mf if (ev.status == midi.NOTE_OFF) or (ev.status == midi.NOTE_ON)\n",
    "    ]\n",
    "    return midi_list"
   ]
  },
  {
   "cell_type": "code",
   "execution_count": 10,
   "metadata": {},
   "outputs": [],
   "source": [
    "list_dic = midi_to_list(mf)"
   ]
  },
  {
   "cell_type": "code",
   "execution_count": 11,
   "metadata": {},
   "outputs": [],
   "source": [
    "def delta_to_time(midi_list: List[Dict[str,float]]) -> List[Dict[str,float]]:\n",
    "    prev_delta = 0\n",
    "    for e in midi_list:\n",
    "        time = prev_delta + e[\"delta\"]\n",
    "        prev_delta = time\n",
    "        e[\"time\"] = time\n",
    "    return midi_list"
   ]
  },
  {
   "cell_type": "code",
   "execution_count": 12,
   "metadata": {},
   "outputs": [
    {
     "ename": "ModuleNotFoundError",
     "evalue": "No module named 'pandas'",
     "output_type": "error",
     "traceback": [
      "\u001b[31m---------------------------------------------------------------------------\u001b[39m",
      "\u001b[31mModuleNotFoundError\u001b[39m                       Traceback (most recent call last)",
      "\u001b[36mCell\u001b[39m\u001b[36m \u001b[39m\u001b[32mIn[12]\u001b[39m\u001b[32m, line 1\u001b[39m\n\u001b[32m----> \u001b[39m\u001b[32m1\u001b[39m \u001b[38;5;28;01mimport\u001b[39;00m\u001b[38;5;250m \u001b[39m\u001b[34;01mpandas\u001b[39;00m\u001b[38;5;250m \u001b[39m\u001b[38;5;28;01mas\u001b[39;00m\u001b[38;5;250m \u001b[39m\u001b[34;01mpd\u001b[39;00m\n\u001b[32m      2\u001b[39m \u001b[38;5;28;01mimport\u001b[39;00m\u001b[38;5;250m \u001b[39m\u001b[34;01mnumpy\u001b[39;00m\u001b[38;5;250m \u001b[39m\u001b[38;5;28;01mas\u001b[39;00m\u001b[38;5;250m \u001b[39m\u001b[34;01mnp\u001b[39;00m\n\u001b[32m      4\u001b[39m \u001b[38;5;28;01mdef\u001b[39;00m\u001b[38;5;250m \u001b[39m\u001b[34mnote_to_rad\u001b[39m(n: \u001b[38;5;28mint\u001b[39m):\n",
      "\u001b[31mModuleNotFoundError\u001b[39m: No module named 'pandas'"
     ]
    }
   ],
   "source": [
    "import pandas as pd\n",
    "import numpy as np\n",
    "\n",
    "def note_to_rad(n: int):\n",
    "    return (np.pi/6)*(5-n)%(2*np.pi)\n",
    "\n",
    "\n",
    "def list_to_point(l: List[Dict[str,float]]):\n",
    "    point_list = []\n",
    "    for i_e in range(len(l)):\n",
    "        event = l[i_e]\n",
    "        if i_e == 0:\n",
    "            point_list.append({\n",
    "                \"status\": event[\"status\"],\n",
    "                \"note\": event[\"note\"],\n",
    "                \"x\": 0,\n",
    "                \"y\": 0,\n",
    "                \"time\": 0,\n",
    "            })\n",
    "        else :\n",
    "            if event[\"status\"] == 1:\n",
    "                prev_point = point_list[-1]\n",
    "                prev_rad = note_to_rad(prev_point[\"note\"])\n",
    "                prev_x = prev_point[\"x\"]\n",
    "                prev_y = prev_point[\"y\"]\n",
    "                point_list.append({\n",
    "                    \"status\": event[\"status\"],\n",
    "                    \"note\": event[\"note\"],\n",
    "                    \"x\": np.cos(prev_rad)*event[\"delta\"] + prev_x,\n",
    "                    \"y\": np.sin(prev_rad)*event[\"delta\"] + prev_y,\n",
    "                    \"time\": event[\"time\"],\n",
    "                })\n",
    "            else:\n",
    "                for inv in range(-1, -len(point_list)-1, -1):\n",
    "                    if point_list[inv][\"note\"] == event[\"note\"]:\n",
    "                        start_event = point_list[inv]\n",
    "                        prev_x = start_event[\"x\"]\n",
    "                        prev_y = start_event[\"y\"]\n",
    "                        rad = note_to_rad(event[\"note\"])\n",
    "                        delta = event[\"time\"] - start_event[\"time\"]\n",
    "                        point_list.append({\n",
    "                            \"status\": event[\"status\"],\n",
    "                            \"note\": event[\"note\"],\n",
    "                            \"x\": np.cos(rad)*delta + prev_x,\n",
    "                            \"y\": np.sin(rad)*delta + prev_y,\n",
    "                            \"time\": event[\"time\"],\n",
    "                        })\n",
    "                        break\n",
    "    return point_list\n",
    "\n",
    "        "
   ]
  },
  {
   "cell_type": "code",
   "execution_count": null,
   "metadata": {},
   "outputs": [],
   "source": [
    "def point_to_segment(l):\n",
    "    l_segments = []\n",
    "    for i in range(len(l)):\n",
    "        point = l[i]\n",
    "        if point[\"status\"] == 1:\n",
    "            for k in range(i+1,len(l)):\n",
    "                end_point=l[k]\n",
    "                if (point[\"note\"] == end_point[\"note\"]) and end_point[\"status\"] == 0:\n",
    "                    l_segments.append({\n",
    "                        \"note\": point[\"note\"],\n",
    "                        \"x1\": point[\"x\"],\n",
    "                        \"y1\": point[\"y\"],\n",
    "                        \"x2\": end_point[\"x\"],\n",
    "                        \"y2\": end_point[\"y\"],\n",
    "                        \"lenght\": end_point[\"time\"] - point[\"time\"],\n",
    "                    })\n",
    "                    break\n",
    "    return l_segments"
   ]
  },
  {
   "cell_type": "code",
   "execution_count": null,
   "metadata": {},
   "outputs": [],
   "source": [
    "l_segment = point_to_segment(list_to_point(delta_to_time(list_dic)))"
   ]
  },
  {
   "cell_type": "code",
   "execution_count": null,
   "metadata": {},
   "outputs": [],
   "source": [
    "df = pd.DataFrame(l_segment)"
   ]
  },
  {
   "cell_type": "code",
   "execution_count": null,
   "metadata": {},
   "outputs": [
    {
     "data": {
      "text/html": [
       "<div>\n",
       "<style scoped>\n",
       "    .dataframe tbody tr th:only-of-type {\n",
       "        vertical-align: middle;\n",
       "    }\n",
       "\n",
       "    .dataframe tbody tr th {\n",
       "        vertical-align: top;\n",
       "    }\n",
       "\n",
       "    .dataframe thead th {\n",
       "        text-align: right;\n",
       "    }\n",
       "</style>\n",
       "<table border=\"1\" class=\"dataframe\">\n",
       "  <thead>\n",
       "    <tr style=\"text-align: right;\">\n",
       "      <th></th>\n",
       "      <th>note</th>\n",
       "      <th>x1</th>\n",
       "      <th>y1</th>\n",
       "      <th>x2</th>\n",
       "      <th>y2</th>\n",
       "      <th>color</th>\n",
       "      <th>note_name</th>\n",
       "    </tr>\n",
       "  </thead>\n",
       "  <tbody>\n",
       "    <tr>\n",
       "      <th>0</th>\n",
       "      <td>60</td>\n",
       "      <td>0</td>\n",
       "      <td>0</td>\n",
       "      <td>1</td>\n",
       "      <td>1</td>\n",
       "      <td>rgb(234, 71, 71)</td>\n",
       "      <td>C</td>\n",
       "    </tr>\n",
       "    <tr>\n",
       "      <th>1</th>\n",
       "      <td>61</td>\n",
       "      <td>1</td>\n",
       "      <td>1</td>\n",
       "      <td>2</td>\n",
       "      <td>0</td>\n",
       "      <td>rgb(234, 153, 71)</td>\n",
       "      <td>C#</td>\n",
       "    </tr>\n",
       "    <tr>\n",
       "      <th>2</th>\n",
       "      <td>62</td>\n",
       "      <td>2</td>\n",
       "      <td>0</td>\n",
       "      <td>3</td>\n",
       "      <td>1</td>\n",
       "      <td>rgb(234, 234, 71)</td>\n",
       "      <td>D</td>\n",
       "    </tr>\n",
       "    <tr>\n",
       "      <th>3</th>\n",
       "      <td>72</td>\n",
       "      <td>3</td>\n",
       "      <td>1</td>\n",
       "      <td>4</td>\n",
       "      <td>0</td>\n",
       "      <td>rgb(237, 94, 94)</td>\n",
       "      <td>C</td>\n",
       "    </tr>\n",
       "    <tr>\n",
       "      <th>4</th>\n",
       "      <td>73</td>\n",
       "      <td>4</td>\n",
       "      <td>0</td>\n",
       "      <td>5</td>\n",
       "      <td>1</td>\n",
       "      <td>rgb(237, 165, 94)</td>\n",
       "      <td>C#</td>\n",
       "    </tr>\n",
       "    <tr>\n",
       "      <th>5</th>\n",
       "      <td>74</td>\n",
       "      <td>5</td>\n",
       "      <td>1</td>\n",
       "      <td>6</td>\n",
       "      <td>0</td>\n",
       "      <td>rgb(237, 237, 94)</td>\n",
       "      <td>D</td>\n",
       "    </tr>\n",
       "    <tr>\n",
       "      <th>6</th>\n",
       "      <td>84</td>\n",
       "      <td>6</td>\n",
       "      <td>0</td>\n",
       "      <td>7</td>\n",
       "      <td>1</td>\n",
       "      <td>rgb(239, 117, 117)</td>\n",
       "      <td>C</td>\n",
       "    </tr>\n",
       "    <tr>\n",
       "      <th>7</th>\n",
       "      <td>85</td>\n",
       "      <td>7</td>\n",
       "      <td>1</td>\n",
       "      <td>8</td>\n",
       "      <td>0</td>\n",
       "      <td>rgb(239, 178, 117)</td>\n",
       "      <td>C#</td>\n",
       "    </tr>\n",
       "    <tr>\n",
       "      <th>8</th>\n",
       "      <td>86</td>\n",
       "      <td>8</td>\n",
       "      <td>0</td>\n",
       "      <td>9</td>\n",
       "      <td>1</td>\n",
       "      <td>rgb(239, 239, 117)</td>\n",
       "      <td>D</td>\n",
       "    </tr>\n",
       "    <tr>\n",
       "      <th>9</th>\n",
       "      <td>60</td>\n",
       "      <td>9</td>\n",
       "      <td>1</td>\n",
       "      <td>10</td>\n",
       "      <td>0</td>\n",
       "      <td>rgb(234, 71, 71)</td>\n",
       "      <td>C</td>\n",
       "    </tr>\n",
       "    <tr>\n",
       "      <th>10</th>\n",
       "      <td>62</td>\n",
       "      <td>10</td>\n",
       "      <td>0</td>\n",
       "      <td>11</td>\n",
       "      <td>1</td>\n",
       "      <td>rgb(234, 234, 71)</td>\n",
       "      <td>D</td>\n",
       "    </tr>\n",
       "  </tbody>\n",
       "</table>\n",
       "</div>"
      ],
      "text/plain": [
       "    note  x1  y1  x2  y2               color note_name\n",
       "0     60   0   0   1   1    rgb(234, 71, 71)         C\n",
       "1     61   1   1   2   0   rgb(234, 153, 71)        C#\n",
       "2     62   2   0   3   1   rgb(234, 234, 71)         D\n",
       "3     72   3   1   4   0    rgb(237, 94, 94)         C\n",
       "4     73   4   0   5   1   rgb(237, 165, 94)        C#\n",
       "5     74   5   1   6   0   rgb(237, 237, 94)         D\n",
       "6     84   6   0   7   1  rgb(239, 117, 117)         C\n",
       "7     85   7   1   8   0  rgb(239, 178, 117)        C#\n",
       "8     86   8   0   9   1  rgb(239, 239, 117)         D\n",
       "9     60   9   1  10   0    rgb(234, 71, 71)         C\n",
       "10    62  10   0  11   1   rgb(234, 234, 71)         D"
      ]
     },
     "execution_count": 41,
     "metadata": {},
     "output_type": "execute_result"
    }
   ],
   "source": [
    "df"
   ]
  },
  {
   "cell_type": "code",
   "execution_count": null,
   "metadata": {},
   "outputs": [
    {
     "data": {
      "application/vnd.plotly.v1+json": {
       "config": {
        "plotlyServerURL": "https://plot.ly"
       },
       "data": [
        {
         "line": {
          "color": "rgb(68, 1, 84)",
          "width": 3
         },
         "mode": "lines",
         "name": "Note 62.0",
         "showlegend": false,
         "type": "scatter",
         "x": [
          0,
          -2.85854654948647e-10
         ],
         "y": [
          0,
          166667
         ]
        },
        {
         "line": {
          "color": "rgb(64, 66, 134)",
          "width": 3
         },
         "mode": "lines",
         "name": "Note 65.0",
         "showlegend": false,
         "type": "scatter",
         "x": [
          -2.85854654948647e-10,
          166666.9999999997
         ],
         "y": [
          166667,
          166667.00000000058
         ]
        },
        {
         "line": {
          "color": "rgb(124, 209, 79)",
          "width": 3
         },
         "mode": "lines",
         "name": "Note 74.0",
         "showlegend": false,
         "type": "scatter",
         "x": [
          166666.9999999997,
          166666.99999999857
         ],
         "y": [
          166667.00000000058,
          833335.0000000006
         ]
        },
        {
         "line": {
          "color": "rgb(68, 1, 84)",
          "width": 3
         },
         "mode": "lines",
         "name": "Note 62.0",
         "showlegend": false,
         "type": "scatter",
         "x": [
          166666.99999999857,
          166666.99999999828
         ],
         "y": [
          833335.0000000006,
          1000002.0000000006
         ]
        },
        {
         "line": {
          "color": "rgb(64, 66, 134)",
          "width": 3
         },
         "mode": "lines",
         "name": "Note 65.0",
         "showlegend": false,
         "type": "scatter",
         "x": [
          166666.99999999828,
          333333.99999999825
         ],
         "y": [
          1000002.0000000006,
          1000002.0000000012
         ]
        },
        {
         "line": {
          "color": "rgb(124, 209, 79)",
          "width": 3
         },
         "mode": "lines",
         "name": "Note 74.0",
         "showlegend": false,
         "type": "scatter",
         "x": [
          333333.99999999825,
          333333.9999999971
         ],
         "y": [
          1000002.0000000012,
          1666670.0000000012
         ]
        },
        {
         "line": {
          "color": "rgb(210, 226, 41)",
          "width": 3
         },
         "mode": "lines",
         "name": "Note 76.0",
         "showlegend": false,
         "type": "scatter",
         "x": [
          333333.9999999971,
          766347.5679176194
         ],
         "y": [
          1666670.0000000012,
          1916670.5000000023
         ]
        },
        {
         "line": {
          "color": "rgb(253, 231, 37)",
          "width": 3
         },
         "mode": "lines",
         "name": "Note 77.0",
         "showlegend": false,
         "type": "scatter",
         "x": [
          766347.5679176194,
          933014.5679176194
         ],
         "y": [
          1916670.5000000023,
          1916670.5000000023
         ]
        },
        {
         "line": {
          "color": "rgb(210, 226, 41)",
          "width": 3
         },
         "mode": "lines",
         "name": "Note 76.0",
         "showlegend": false,
         "type": "scatter",
         "x": [
          933014.5679176194,
          1077352.4238901602
         ],
         "y": [
          1916670.5000000023,
          2000004.0000000028
         ]
        },
        {
         "line": {
          "color": "rgb(253, 231, 37)",
          "width": 3
         },
         "mode": "lines",
         "name": "Note 77.0",
         "showlegend": false,
         "type": "scatter",
         "x": [
          1077352.4238901602,
          1244019.4238901602
         ],
         "y": [
          2000004.0000000028,
          2000004.0000000028
         ]
        },
        {
         "line": {
          "color": "rgb(210, 226, 41)",
          "width": 3
         },
         "mode": "lines",
         "name": "Note 76.0",
         "showlegend": false,
         "type": "scatter",
         "x": [
          1244019.4238901602,
          1388357.279862701
         ],
         "y": [
          2000004.0000000028,
          2083337.5000000033
         ]
        },
        {
         "line": {
          "color": "rgb(53, 183, 121)",
          "width": 3
         },
         "mode": "lines",
         "name": "Note 72.0",
         "showlegend": false,
         "type": "scatter",
         "x": [
          1388357.279862701,
          1244019.42389016
         ],
         "y": [
          2083337.5000000033,
          2166671.0000000033
         ]
        },
        {
         "line": {
          "color": "rgb(37, 136, 141)",
          "width": 3
         },
         "mode": "lines",
         "name": "Note 69.0",
         "showlegend": false,
         "type": "scatter",
         "x": [
          1244019.42389016,
          910685.4238901612
         ],
         "y": [
          2166671.0000000033,
          1589319.5761098384
         ]
        },
        {
         "line": {
          "color": "rgb(37, 136, 141)",
          "width": 3
         },
         "mode": "lines",
         "name": "Note 69.0",
         "showlegend": false,
         "type": "scatter",
         "x": [
          910685.4238901612,
          744018.4238901618
         ],
         "y": [
          1589319.5761098384,
          1300643.8641647561
         ]
        },
        {
         "line": {
          "color": "rgb(68, 1, 84)",
          "width": 3
         },
         "mode": "lines",
         "name": "Note 62.0",
         "showlegend": false,
         "type": "scatter",
         "x": [
          744018.4238901618,
          744018.4238901612
         ],
         "y": [
          1300643.8641647561,
          1633977.8641647561
         ]
        },
        {
         "line": {
          "color": "rgb(64, 66, 134)",
          "width": 3
         },
         "mode": "lines",
         "name": "Note 65.0",
         "showlegend": false,
         "type": "scatter",
         "x": [
          744018.4238901612,
          910685.4238901612
         ],
         "y": [
          1633977.8641647561,
          1633977.8641647568
         ]
        },
        {
         "line": {
          "color": "rgb(49, 104, 142)",
          "width": 3
         },
         "mode": "lines",
         "name": "Note 67.0",
         "showlegend": false,
         "type": "scatter",
         "x": [
          910685.4238901612,
          994018.9238901613
         ],
         "y": [
          1633977.8641647568,
          1489640.0081922158
         ]
        },
        {
         "line": {
          "color": "rgb(37, 136, 141)",
          "width": 3
         },
         "mode": "lines",
         "name": "Note 69.0",
         "showlegend": false,
         "type": "scatter",
         "x": [
          994018.9238901613,
          949662.4238901614
         ],
         "y": [
          1489640.0081922158,
          1412812.296546287
         ]
        },
        {
         "line": {
          "color": "rgb(37, 136, 141)",
          "width": 3
         },
         "mode": "lines",
         "name": "Note 69.0",
         "showlegend": false,
         "type": "scatter",
         "x": [
          949662.4238901614,
          824541.4238901619
         ],
         "y": [
          1412812.296546287,
          1196096.3674524613
         ]
        },
        {
         "line": {
          "color": "rgb(68, 1, 84)",
          "width": 3
         },
         "mode": "lines",
         "name": "Note 62.0",
         "showlegend": false,
         "type": "scatter",
         "x": [
          824541.4238901619,
          824541.4238901613
         ],
         "y": [
          1196096.3674524613,
          1529430.3674524613
         ]
        },
        {
         "line": {
          "color": "rgb(64, 66, 134)",
          "width": 3
         },
         "mode": "lines",
         "name": "Note 65.0",
         "showlegend": false,
         "type": "scatter",
         "x": [
          824541.4238901613,
          991208.4238901613
         ],
         "y": [
          1529430.3674524613,
          1529430.367452462
         ]
        },
        {
         "line": {
          "color": "rgb(49, 104, 142)",
          "width": 3
         },
         "mode": "lines",
         "name": "Note 67.0",
         "showlegend": false,
         "type": "scatter",
         "x": [
          991208.4238901613,
          1074541.9238901616
         ],
         "y": [
          1529430.367452462,
          1385092.511479921
         ]
        },
        {
         "line": {
          "color": "rgb(70, 47, 123)",
          "width": 3
         },
         "mode": "lines",
         "name": "Note 64.0",
         "showlegend": false,
         "type": "scatter",
         "x": [
          1074541.9238901616,
          1940569.059725406
         ],
         "y": [
          1385092.511479921,
          1885093.5114799235
         ]
        },
        {
         "line": {
          "color": "rgb(68, 1, 84)",
          "width": 3
         },
         "mode": "lines",
         "name": "Note 62.0",
         "showlegend": false,
         "type": "scatter",
         "x": [
          1940569.059725406,
          1940569.0597254059
         ],
         "y": [
          1885093.5114799235,
          2051760.5114799235
         ]
        },
        {
         "line": {
          "color": "rgb(64, 66, 134)",
          "width": 3
         },
         "mode": "lines",
         "name": "Note 65.0",
         "showlegend": false,
         "type": "scatter",
         "x": [
          1940569.0597254059,
          2107236.0597254056
         ],
         "y": [
          2051760.5114799235,
          2051760.5114799242
         ]
        },
        {
         "line": {
          "color": "rgb(124, 209, 79)",
          "width": 3
         },
         "mode": "lines",
         "name": "Note 74.0",
         "showlegend": false,
         "type": "scatter",
         "x": [
          2107236.0597254056,
          2107236.0597254047
         ],
         "y": [
          2051760.5114799242,
          2718428.5114799244
         ]
        },
        {
         "line": {
          "color": "rgb(68, 1, 84)",
          "width": 3
         },
         "mode": "lines",
         "name": "Note 62.0",
         "showlegend": false,
         "type": "scatter",
         "x": [
          2107236.0597254047,
          2107236.0597254043
         ],
         "y": [
          2718428.5114799244,
          2885095.5114799244
         ]
        },
        {
         "line": {
          "color": "rgb(64, 66, 134)",
          "width": 3
         },
         "mode": "lines",
         "name": "Note 65.0",
         "showlegend": false,
         "type": "scatter",
         "x": [
          2107236.0597254043,
          2273903.0597254043
         ],
         "y": [
          2885095.5114799244,
          2885095.511479925
         ]
        },
        {
         "line": {
          "color": "rgb(124, 209, 79)",
          "width": 3
         },
         "mode": "lines",
         "name": "Note 74.0",
         "showlegend": false,
         "type": "scatter",
         "x": [
          2273903.0597254043,
          2273903.0597254033
         ],
         "y": [
          2885095.511479925,
          3551763.511479925
         ]
        },
        {
         "line": {
          "color": "rgb(210, 226, 41)",
          "width": 3
         },
         "mode": "lines",
         "name": "Note 76.0",
         "showlegend": false,
         "type": "scatter",
         "x": [
          2273903.0597254033,
          2706916.6276430255
         ],
         "y": [
          3551763.511479925,
          3801764.0114799263
         ]
        },
        {
         "line": {
          "color": "rgb(253, 231, 37)",
          "width": 3
         },
         "mode": "lines",
         "name": "Note 77.0",
         "showlegend": false,
         "type": "scatter",
         "x": [
          2706916.6276430255,
          2873583.6276430255
         ],
         "y": [
          3801764.0114799263,
          3801764.0114799263
         ]
        },
        {
         "line": {
          "color": "rgb(210, 226, 41)",
          "width": 3
         },
         "mode": "lines",
         "name": "Note 76.0",
         "showlegend": false,
         "type": "scatter",
         "x": [
          2873583.6276430255,
          3017921.483615566
         ],
         "y": [
          3801764.0114799263,
          3885097.5114799268
         ]
        },
        {
         "line": {
          "color": "rgb(253, 231, 37)",
          "width": 3
         },
         "mode": "lines",
         "name": "Note 77.0",
         "showlegend": false,
         "type": "scatter",
         "x": [
          3017921.483615566,
          3184588.483615566
         ],
         "y": [
          3885097.5114799268,
          3885097.5114799268
         ]
        },
        {
         "line": {
          "color": "rgb(210, 226, 41)",
          "width": 3
         },
         "mode": "lines",
         "name": "Note 76.0",
         "showlegend": false,
         "type": "scatter",
         "x": [
          3184588.483615566,
          3328926.3395881066
         ],
         "y": [
          3885097.5114799268,
          3968431.011479927
         ]
        },
        {
         "line": {
          "color": "rgb(53, 183, 121)",
          "width": 3
         },
         "mode": "lines",
         "name": "Note 72.0",
         "showlegend": false,
         "type": "scatter",
         "x": [
          3328926.3395881066,
          3184588.4836155656
         ],
         "y": [
          3968431.011479927,
          4051764.511479927
         ]
        },
        {
         "line": {
          "color": "rgb(37, 136, 141)",
          "width": 3
         },
         "mode": "lines",
         "name": "Note 69.0",
         "showlegend": false,
         "type": "scatter",
         "x": [
          3184588.4836155656,
          2851254.483615567
         ],
         "y": [
          4051764.511479927,
          3474413.087589762
         ]
        },
        {
         "line": {
          "color": "rgb(37, 136, 141)",
          "width": 3
         },
         "mode": "lines",
         "name": "Note 69.0",
         "showlegend": false,
         "type": "scatter",
         "x": [
          2851254.483615567,
          2684587.4836155674
         ],
         "y": [
          3474413.087589762,
          3185737.3756446796
         ]
        },
        {
         "line": {
          "color": "rgb(68, 1, 84)",
          "width": 3
         },
         "mode": "lines",
         "name": "Note 62.0",
         "showlegend": false,
         "type": "scatter",
         "x": [
          2684587.4836155674,
          2684587.483615567
         ],
         "y": [
          3185737.3756446796,
          3519071.3756446796
         ]
        },
        {
         "line": {
          "color": "rgb(64, 66, 134)",
          "width": 3
         },
         "mode": "lines",
         "name": "Note 65.0",
         "showlegend": false,
         "type": "scatter",
         "x": [
          2684587.483615567,
          2851254.483615567
         ],
         "y": [
          3519071.3756446796,
          3519071.37564468
         ]
        },
        {
         "line": {
          "color": "rgb(49, 104, 142)",
          "width": 3
         },
         "mode": "lines",
         "name": "Note 67.0",
         "showlegend": false,
         "type": "scatter",
         "x": [
          2851254.483615567,
          2934587.983615567
         ],
         "y": [
          3519071.37564468,
          3374733.519672139
         ]
        },
        {
         "line": {
          "color": "rgb(37, 136, 141)",
          "width": 3
         },
         "mode": "lines",
         "name": "Note 69.0",
         "showlegend": false,
         "type": "scatter",
         "x": [
          2934587.983615567,
          2601253.9836155684
         ],
         "y": [
          3374733.519672139,
          2797382.0957819745
         ]
        },
        {
         "line": {
          "color": "rgb(37, 136, 141)",
          "width": 3
         },
         "mode": "lines",
         "name": "Note 69.0",
         "showlegend": false,
         "type": "scatter",
         "x": [
          2601253.9836155684,
          2434586.983615569
         ],
         "y": [
          2797382.0957819745,
          2508706.383836892
         ]
        },
        {
         "line": {
          "color": "rgb(68, 1, 84)",
          "width": 3
         },
         "mode": "lines",
         "name": "Note 62.0",
         "showlegend": false,
         "type": "scatter",
         "x": [
          2434586.983615569,
          2434586.9836155684
         ],
         "y": [
          2508706.383836892,
          2842040.383836892
         ]
        },
        {
         "hoverinfo": "none",
         "marker": {
          "cmax": 77,
          "cmin": 62,
          "color": [
           62,
           65,
           74,
           62,
           65,
           74,
           76,
           77,
           76,
           77,
           76,
           72,
           69,
           69,
           62,
           65,
           67,
           69,
           69,
           62,
           65,
           67,
           64,
           62,
           65,
           74,
           62,
           65,
           74,
           76,
           77,
           76,
           77,
           76,
           72,
           69,
           69,
           62,
           65,
           67,
           69,
           69,
           62
          ],
          "colorbar": {
           "title": {
            "text": "Note"
           }
          },
          "colorscale": [
           [
            0,
            "#440154"
           ],
           [
            0.1111111111111111,
            "#482878"
           ],
           [
            0.2222222222222222,
            "#3e4989"
           ],
           [
            0.3333333333333333,
            "#31688e"
           ],
           [
            0.4444444444444444,
            "#26828e"
           ],
           [
            0.5555555555555556,
            "#1f9e89"
           ],
           [
            0.6666666666666666,
            "#35b779"
           ],
           [
            0.7777777777777778,
            "#6ece58"
           ],
           [
            0.8888888888888888,
            "#b5de2b"
           ],
           [
            1,
            "#fde725"
           ]
          ],
          "size": 10
         },
         "mode": "markers",
         "type": "scatter",
         "x": [
          null
         ],
         "y": [
          null
         ]
        }
       ],
       "layout": {
        "height": 800,
        "template": {
         "data": {
          "bar": [
           {
            "error_x": {
             "color": "#f2f5fa"
            },
            "error_y": {
             "color": "#f2f5fa"
            },
            "marker": {
             "line": {
              "color": "rgb(17,17,17)",
              "width": 0.5
             },
             "pattern": {
              "fillmode": "overlay",
              "size": 10,
              "solidity": 0.2
             }
            },
            "type": "bar"
           }
          ],
          "barpolar": [
           {
            "marker": {
             "line": {
              "color": "rgb(17,17,17)",
              "width": 0.5
             },
             "pattern": {
              "fillmode": "overlay",
              "size": 10,
              "solidity": 0.2
             }
            },
            "type": "barpolar"
           }
          ],
          "carpet": [
           {
            "aaxis": {
             "endlinecolor": "#A2B1C6",
             "gridcolor": "#506784",
             "linecolor": "#506784",
             "minorgridcolor": "#506784",
             "startlinecolor": "#A2B1C6"
            },
            "baxis": {
             "endlinecolor": "#A2B1C6",
             "gridcolor": "#506784",
             "linecolor": "#506784",
             "minorgridcolor": "#506784",
             "startlinecolor": "#A2B1C6"
            },
            "type": "carpet"
           }
          ],
          "choropleth": [
           {
            "colorbar": {
             "outlinewidth": 0,
             "ticks": ""
            },
            "type": "choropleth"
           }
          ],
          "contour": [
           {
            "colorbar": {
             "outlinewidth": 0,
             "ticks": ""
            },
            "colorscale": [
             [
              0,
              "#0d0887"
             ],
             [
              0.1111111111111111,
              "#46039f"
             ],
             [
              0.2222222222222222,
              "#7201a8"
             ],
             [
              0.3333333333333333,
              "#9c179e"
             ],
             [
              0.4444444444444444,
              "#bd3786"
             ],
             [
              0.5555555555555556,
              "#d8576b"
             ],
             [
              0.6666666666666666,
              "#ed7953"
             ],
             [
              0.7777777777777778,
              "#fb9f3a"
             ],
             [
              0.8888888888888888,
              "#fdca26"
             ],
             [
              1,
              "#f0f921"
             ]
            ],
            "type": "contour"
           }
          ],
          "contourcarpet": [
           {
            "colorbar": {
             "outlinewidth": 0,
             "ticks": ""
            },
            "type": "contourcarpet"
           }
          ],
          "heatmap": [
           {
            "colorbar": {
             "outlinewidth": 0,
             "ticks": ""
            },
            "colorscale": [
             [
              0,
              "#0d0887"
             ],
             [
              0.1111111111111111,
              "#46039f"
             ],
             [
              0.2222222222222222,
              "#7201a8"
             ],
             [
              0.3333333333333333,
              "#9c179e"
             ],
             [
              0.4444444444444444,
              "#bd3786"
             ],
             [
              0.5555555555555556,
              "#d8576b"
             ],
             [
              0.6666666666666666,
              "#ed7953"
             ],
             [
              0.7777777777777778,
              "#fb9f3a"
             ],
             [
              0.8888888888888888,
              "#fdca26"
             ],
             [
              1,
              "#f0f921"
             ]
            ],
            "type": "heatmap"
           }
          ],
          "histogram": [
           {
            "marker": {
             "pattern": {
              "fillmode": "overlay",
              "size": 10,
              "solidity": 0.2
             }
            },
            "type": "histogram"
           }
          ],
          "histogram2d": [
           {
            "colorbar": {
             "outlinewidth": 0,
             "ticks": ""
            },
            "colorscale": [
             [
              0,
              "#0d0887"
             ],
             [
              0.1111111111111111,
              "#46039f"
             ],
             [
              0.2222222222222222,
              "#7201a8"
             ],
             [
              0.3333333333333333,
              "#9c179e"
             ],
             [
              0.4444444444444444,
              "#bd3786"
             ],
             [
              0.5555555555555556,
              "#d8576b"
             ],
             [
              0.6666666666666666,
              "#ed7953"
             ],
             [
              0.7777777777777778,
              "#fb9f3a"
             ],
             [
              0.8888888888888888,
              "#fdca26"
             ],
             [
              1,
              "#f0f921"
             ]
            ],
            "type": "histogram2d"
           }
          ],
          "histogram2dcontour": [
           {
            "colorbar": {
             "outlinewidth": 0,
             "ticks": ""
            },
            "colorscale": [
             [
              0,
              "#0d0887"
             ],
             [
              0.1111111111111111,
              "#46039f"
             ],
             [
              0.2222222222222222,
              "#7201a8"
             ],
             [
              0.3333333333333333,
              "#9c179e"
             ],
             [
              0.4444444444444444,
              "#bd3786"
             ],
             [
              0.5555555555555556,
              "#d8576b"
             ],
             [
              0.6666666666666666,
              "#ed7953"
             ],
             [
              0.7777777777777778,
              "#fb9f3a"
             ],
             [
              0.8888888888888888,
              "#fdca26"
             ],
             [
              1,
              "#f0f921"
             ]
            ],
            "type": "histogram2dcontour"
           }
          ],
          "mesh3d": [
           {
            "colorbar": {
             "outlinewidth": 0,
             "ticks": ""
            },
            "type": "mesh3d"
           }
          ],
          "parcoords": [
           {
            "line": {
             "colorbar": {
              "outlinewidth": 0,
              "ticks": ""
             }
            },
            "type": "parcoords"
           }
          ],
          "pie": [
           {
            "automargin": true,
            "type": "pie"
           }
          ],
          "scatter": [
           {
            "marker": {
             "line": {
              "color": "#283442"
             }
            },
            "type": "scatter"
           }
          ],
          "scatter3d": [
           {
            "line": {
             "colorbar": {
              "outlinewidth": 0,
              "ticks": ""
             }
            },
            "marker": {
             "colorbar": {
              "outlinewidth": 0,
              "ticks": ""
             }
            },
            "type": "scatter3d"
           }
          ],
          "scattercarpet": [
           {
            "marker": {
             "colorbar": {
              "outlinewidth": 0,
              "ticks": ""
             }
            },
            "type": "scattercarpet"
           }
          ],
          "scattergeo": [
           {
            "marker": {
             "colorbar": {
              "outlinewidth": 0,
              "ticks": ""
             }
            },
            "type": "scattergeo"
           }
          ],
          "scattergl": [
           {
            "marker": {
             "line": {
              "color": "#283442"
             }
            },
            "type": "scattergl"
           }
          ],
          "scattermap": [
           {
            "marker": {
             "colorbar": {
              "outlinewidth": 0,
              "ticks": ""
             }
            },
            "type": "scattermap"
           }
          ],
          "scattermapbox": [
           {
            "marker": {
             "colorbar": {
              "outlinewidth": 0,
              "ticks": ""
             }
            },
            "type": "scattermapbox"
           }
          ],
          "scatterpolar": [
           {
            "marker": {
             "colorbar": {
              "outlinewidth": 0,
              "ticks": ""
             }
            },
            "type": "scatterpolar"
           }
          ],
          "scatterpolargl": [
           {
            "marker": {
             "colorbar": {
              "outlinewidth": 0,
              "ticks": ""
             }
            },
            "type": "scatterpolargl"
           }
          ],
          "scatterternary": [
           {
            "marker": {
             "colorbar": {
              "outlinewidth": 0,
              "ticks": ""
             }
            },
            "type": "scatterternary"
           }
          ],
          "surface": [
           {
            "colorbar": {
             "outlinewidth": 0,
             "ticks": ""
            },
            "colorscale": [
             [
              0,
              "#0d0887"
             ],
             [
              0.1111111111111111,
              "#46039f"
             ],
             [
              0.2222222222222222,
              "#7201a8"
             ],
             [
              0.3333333333333333,
              "#9c179e"
             ],
             [
              0.4444444444444444,
              "#bd3786"
             ],
             [
              0.5555555555555556,
              "#d8576b"
             ],
             [
              0.6666666666666666,
              "#ed7953"
             ],
             [
              0.7777777777777778,
              "#fb9f3a"
             ],
             [
              0.8888888888888888,
              "#fdca26"
             ],
             [
              1,
              "#f0f921"
             ]
            ],
            "type": "surface"
           }
          ],
          "table": [
           {
            "cells": {
             "fill": {
              "color": "#506784"
             },
             "line": {
              "color": "rgb(17,17,17)"
             }
            },
            "header": {
             "fill": {
              "color": "#2a3f5f"
             },
             "line": {
              "color": "rgb(17,17,17)"
             }
            },
            "type": "table"
           }
          ]
         },
         "layout": {
          "annotationdefaults": {
           "arrowcolor": "#f2f5fa",
           "arrowhead": 0,
           "arrowwidth": 1
          },
          "autotypenumbers": "strict",
          "coloraxis": {
           "colorbar": {
            "outlinewidth": 0,
            "ticks": ""
           }
          },
          "colorscale": {
           "diverging": [
            [
             0,
             "#8e0152"
            ],
            [
             0.1,
             "#c51b7d"
            ],
            [
             0.2,
             "#de77ae"
            ],
            [
             0.3,
             "#f1b6da"
            ],
            [
             0.4,
             "#fde0ef"
            ],
            [
             0.5,
             "#f7f7f7"
            ],
            [
             0.6,
             "#e6f5d0"
            ],
            [
             0.7,
             "#b8e186"
            ],
            [
             0.8,
             "#7fbc41"
            ],
            [
             0.9,
             "#4d9221"
            ],
            [
             1,
             "#276419"
            ]
           ],
           "sequential": [
            [
             0,
             "#0d0887"
            ],
            [
             0.1111111111111111,
             "#46039f"
            ],
            [
             0.2222222222222222,
             "#7201a8"
            ],
            [
             0.3333333333333333,
             "#9c179e"
            ],
            [
             0.4444444444444444,
             "#bd3786"
            ],
            [
             0.5555555555555556,
             "#d8576b"
            ],
            [
             0.6666666666666666,
             "#ed7953"
            ],
            [
             0.7777777777777778,
             "#fb9f3a"
            ],
            [
             0.8888888888888888,
             "#fdca26"
            ],
            [
             1,
             "#f0f921"
            ]
           ],
           "sequentialminus": [
            [
             0,
             "#0d0887"
            ],
            [
             0.1111111111111111,
             "#46039f"
            ],
            [
             0.2222222222222222,
             "#7201a8"
            ],
            [
             0.3333333333333333,
             "#9c179e"
            ],
            [
             0.4444444444444444,
             "#bd3786"
            ],
            [
             0.5555555555555556,
             "#d8576b"
            ],
            [
             0.6666666666666666,
             "#ed7953"
            ],
            [
             0.7777777777777778,
             "#fb9f3a"
            ],
            [
             0.8888888888888888,
             "#fdca26"
            ],
            [
             1,
             "#f0f921"
            ]
           ]
          },
          "colorway": [
           "#636efa",
           "#EF553B",
           "#00cc96",
           "#ab63fa",
           "#FFA15A",
           "#19d3f3",
           "#FF6692",
           "#B6E880",
           "#FF97FF",
           "#FECB52"
          ],
          "font": {
           "color": "#f2f5fa"
          },
          "geo": {
           "bgcolor": "rgb(17,17,17)",
           "lakecolor": "rgb(17,17,17)",
           "landcolor": "rgb(17,17,17)",
           "showlakes": true,
           "showland": true,
           "subunitcolor": "#506784"
          },
          "hoverlabel": {
           "align": "left"
          },
          "hovermode": "closest",
          "mapbox": {
           "style": "dark"
          },
          "paper_bgcolor": "rgb(17,17,17)",
          "plot_bgcolor": "rgb(17,17,17)",
          "polar": {
           "angularaxis": {
            "gridcolor": "#506784",
            "linecolor": "#506784",
            "ticks": ""
           },
           "bgcolor": "rgb(17,17,17)",
           "radialaxis": {
            "gridcolor": "#506784",
            "linecolor": "#506784",
            "ticks": ""
           }
          },
          "scene": {
           "xaxis": {
            "backgroundcolor": "rgb(17,17,17)",
            "gridcolor": "#506784",
            "gridwidth": 2,
            "linecolor": "#506784",
            "showbackground": true,
            "ticks": "",
            "zerolinecolor": "#C8D4E3"
           },
           "yaxis": {
            "backgroundcolor": "rgb(17,17,17)",
            "gridcolor": "#506784",
            "gridwidth": 2,
            "linecolor": "#506784",
            "showbackground": true,
            "ticks": "",
            "zerolinecolor": "#C8D4E3"
           },
           "zaxis": {
            "backgroundcolor": "rgb(17,17,17)",
            "gridcolor": "#506784",
            "gridwidth": 2,
            "linecolor": "#506784",
            "showbackground": true,
            "ticks": "",
            "zerolinecolor": "#C8D4E3"
           }
          },
          "shapedefaults": {
           "line": {
            "color": "#f2f5fa"
           }
          },
          "sliderdefaults": {
           "bgcolor": "#C8D4E3",
           "bordercolor": "rgb(17,17,17)",
           "borderwidth": 1,
           "tickwidth": 0
          },
          "ternary": {
           "aaxis": {
            "gridcolor": "#506784",
            "linecolor": "#506784",
            "ticks": ""
           },
           "baxis": {
            "gridcolor": "#506784",
            "linecolor": "#506784",
            "ticks": ""
           },
           "bgcolor": "rgb(17,17,17)",
           "caxis": {
            "gridcolor": "#506784",
            "linecolor": "#506784",
            "ticks": ""
           }
          },
          "title": {
           "x": 0.05
          },
          "updatemenudefaults": {
           "bgcolor": "#506784",
           "borderwidth": 0
          },
          "xaxis": {
           "automargin": true,
           "gridcolor": "#283442",
           "linecolor": "#506784",
           "ticks": "",
           "title": {
            "standoff": 15
           },
           "zerolinecolor": "#283442",
           "zerolinewidth": 2
          },
          "yaxis": {
           "automargin": true,
           "gridcolor": "#283442",
           "linecolor": "#506784",
           "ticks": "",
           "title": {
            "standoff": 15
           },
           "zerolinecolor": "#283442",
           "zerolinewidth": 2
          }
         }
        },
        "title": {
         "text": "Line Segments Colored by Integer Note"
        },
        "width": 1200,
        "xaxis": {
         "title": {
          "text": "X"
         }
        },
        "yaxis": {
         "title": {
          "text": "Y"
         }
        }
       }
      }
     },
     "metadata": {},
     "output_type": "display_data"
    }
   ],
   "source": [
    "import plotly.graph_objects as go\n",
    "import plotly.colors\n",
    "\n",
    "\n",
    "# Normalize note values\n",
    "min_note, max_note = df['note'].min(), df['note'].max()\n",
    "\n",
    "# Use Plotly's color scale\n",
    "colorscale = 'Viridis'\n",
    "colors = plotly.colors.sample_colorscale(colorscale, (df['note'] - min_note) / (max_note - min_note))\n",
    "\n",
    "# Initialize figure\n",
    "fig = go.Figure()\n",
    "\n",
    "# Plot each segment with color based on note\n",
    "for i, row in df.iterrows():\n",
    "    fig.add_trace(go.Scatter(\n",
    "        x=[row['x1'], row['x2']],\n",
    "        y=[row['y1'], row['y2']],\n",
    "        mode='lines',\n",
    "        line=dict(color=colors[i], width=3),\n",
    "        name=f'Note {row[\"note\"]}',\n",
    "        showlegend=False\n",
    "    ))\n",
    "\n",
    "# Add a color bar\n",
    "fig.add_trace(go.Scatter(\n",
    "    x=[None],\n",
    "    y=[None],\n",
    "    mode='markers',\n",
    "    marker=dict(\n",
    "        size=10,\n",
    "        color=list(df['note']),\n",
    "        colorscale=colorscale,\n",
    "        cmin=min_note, cmax=max_note,\n",
    "        colorbar=dict(title=\"Note\")\n",
    "    ),\n",
    "    hoverinfo='none'\n",
    "))\n",
    "\n",
    "# Layout adjustments\n",
    "fig.update_layout(\n",
    "    title=\"Line Segments Colored by Integer Note\",\n",
    "    xaxis_title=\"X\",\n",
    "    yaxis_title=\"Y\",\n",
    "    template=\"plotly_dark\",\n",
    "    width=1200,\n",
    "    height=800\n",
    ")\n",
    "\n",
    "fig.show()\n"
   ]
  },
  {
   "cell_type": "code",
   "execution_count": null,
   "metadata": {},
   "outputs": [
    {
     "data": {
      "application/vnd.plotly.v1+json": {
       "config": {
        "plotlyServerURL": "https://plot.ly"
       },
       "data": [
        {
         "hoverinfo": "text",
         "legendgroup": "D4",
         "line": {
          "color": "rgb(234, 234, 71)",
          "width": 4
         },
         "mode": "lines",
         "name": "D4",
         "showlegend": true,
         "text": "Note: D4 (62)",
         "type": "scatter",
         "visible": true,
         "x": [
          0,
          -2.85854654948647e-10,
          null
         ],
         "y": [
          0,
          166667,
          null
         ]
        },
        {
         "hoverinfo": "text",
         "legendgroup": "F4",
         "line": {
          "color": "rgb(71, 234, 153)",
          "width": 4
         },
         "mode": "lines",
         "name": "F4",
         "showlegend": true,
         "text": "Note: F4 (65)",
         "type": "scatter",
         "visible": true,
         "x": [
          -2.85854654948647e-10,
          166666.9999999997,
          null
         ],
         "y": [
          166667,
          166667.00000000058,
          null
         ]
        },
        {
         "hoverinfo": "text",
         "legendgroup": "D5",
         "line": {
          "color": "rgb(237, 237, 94)",
          "width": 4
         },
         "mode": "lines",
         "name": "D5",
         "showlegend": true,
         "text": "Note: D5 (74)",
         "type": "scatter",
         "visible": true,
         "x": [
          166666.9999999997,
          166666.99999999857,
          null
         ],
         "y": [
          166667.00000000058,
          833335.0000000006,
          null
         ]
        },
        {
         "hoverinfo": "text",
         "legendgroup": "D4",
         "line": {
          "color": "rgb(234, 234, 71)",
          "width": 4
         },
         "mode": "lines",
         "showlegend": false,
         "text": "Note: D4 (62)",
         "type": "scatter",
         "visible": true,
         "x": [
          166666.99999999857,
          166666.99999999828,
          null
         ],
         "y": [
          833335.0000000006,
          1000002.0000000006,
          null
         ]
        },
        {
         "hoverinfo": "text",
         "legendgroup": "F4",
         "line": {
          "color": "rgb(71, 234, 153)",
          "width": 4
         },
         "mode": "lines",
         "showlegend": false,
         "text": "Note: F4 (65)",
         "type": "scatter",
         "visible": true,
         "x": [
          166666.99999999828,
          333333.99999999825,
          null
         ],
         "y": [
          1000002.0000000006,
          1000002.0000000012,
          null
         ]
        },
        {
         "hoverinfo": "text",
         "legendgroup": "D5",
         "line": {
          "color": "rgb(237, 237, 94)",
          "width": 4
         },
         "mode": "lines",
         "showlegend": false,
         "text": "Note: D5 (74)",
         "type": "scatter",
         "visible": true,
         "x": [
          333333.99999999825,
          333333.9999999971,
          null
         ],
         "y": [
          1000002.0000000012,
          1666670.0000000012,
          null
         ]
        },
        {
         "hoverinfo": "text",
         "legendgroup": "E5",
         "line": {
          "color": "rgb(94, 237, 94)",
          "width": 4
         },
         "mode": "lines",
         "name": "E5",
         "showlegend": true,
         "text": "Note: E5 (76)",
         "type": "scatter",
         "visible": true,
         "x": [
          333333.9999999971,
          766347.5679176194,
          null
         ],
         "y": [
          1666670.0000000012,
          1916670.5000000023,
          null
         ]
        },
        {
         "hoverinfo": "text",
         "legendgroup": "F5",
         "line": {
          "color": "rgb(94, 237, 165)",
          "width": 4
         },
         "mode": "lines",
         "name": "F5",
         "showlegend": true,
         "text": "Note: F5 (77)",
         "type": "scatter",
         "visible": true,
         "x": [
          766347.5679176194,
          933014.5679176194,
          null
         ],
         "y": [
          1916670.5000000023,
          1916670.5000000023,
          null
         ]
        },
        {
         "hoverinfo": "text",
         "legendgroup": "E5",
         "line": {
          "color": "rgb(94, 237, 94)",
          "width": 4
         },
         "mode": "lines",
         "showlegend": false,
         "text": "Note: E5 (76)",
         "type": "scatter",
         "visible": true,
         "x": [
          933014.5679176194,
          1077352.4238901602,
          null
         ],
         "y": [
          1916670.5000000023,
          2000004.0000000028,
          null
         ]
        },
        {
         "hoverinfo": "text",
         "legendgroup": "F5",
         "line": {
          "color": "rgb(94, 237, 165)",
          "width": 4
         },
         "mode": "lines",
         "showlegend": false,
         "text": "Note: F5 (77)",
         "type": "scatter",
         "visible": true,
         "x": [
          1077352.4238901602,
          1244019.4238901602,
          null
         ],
         "y": [
          2000004.0000000028,
          2000004.0000000028,
          null
         ]
        },
        {
         "hoverinfo": "text",
         "legendgroup": "E5",
         "line": {
          "color": "rgb(94, 237, 94)",
          "width": 4
         },
         "mode": "lines",
         "showlegend": false,
         "text": "Note: E5 (76)",
         "type": "scatter",
         "visible": true,
         "x": [
          1244019.4238901602,
          1388357.279862701,
          null
         ],
         "y": [
          2000004.0000000028,
          2083337.5000000033,
          null
         ]
        },
        {
         "hoverinfo": "text",
         "legendgroup": "C5",
         "line": {
          "color": "rgb(237, 94, 94)",
          "width": 4
         },
         "mode": "lines",
         "name": "C5",
         "showlegend": true,
         "text": "Note: C5 (72)",
         "type": "scatter",
         "visible": true,
         "x": [
          1388357.279862701,
          1244019.42389016,
          null
         ],
         "y": [
          2083337.5000000033,
          2166671.0000000033,
          null
         ]
        },
        {
         "hoverinfo": "text",
         "legendgroup": "A4",
         "line": {
          "color": "rgb(152, 71, 234)",
          "width": 4
         },
         "mode": "lines",
         "name": "A4",
         "showlegend": true,
         "text": "Note: A4 (69)",
         "type": "scatter",
         "visible": true,
         "x": [
          1244019.42389016,
          910685.4238901612,
          null
         ],
         "y": [
          2166671.0000000033,
          1589319.5761098384,
          null
         ]
        },
        {
         "hoverinfo": "text",
         "legendgroup": "A4",
         "line": {
          "color": "rgb(152, 71, 234)",
          "width": 4
         },
         "mode": "lines",
         "showlegend": false,
         "text": "Note: A4 (69)",
         "type": "scatter",
         "visible": true,
         "x": [
          910685.4238901612,
          744018.4238901618,
          null
         ],
         "y": [
          1589319.5761098384,
          1300643.8641647561,
          null
         ]
        },
        {
         "hoverinfo": "text",
         "legendgroup": "D4",
         "line": {
          "color": "rgb(234, 234, 71)",
          "width": 4
         },
         "mode": "lines",
         "showlegend": false,
         "text": "Note: D4 (62)",
         "type": "scatter",
         "visible": true,
         "x": [
          744018.4238901618,
          744018.4238901612,
          null
         ],
         "y": [
          1300643.8641647561,
          1633977.8641647561,
          null
         ]
        },
        {
         "hoverinfo": "text",
         "legendgroup": "F4",
         "line": {
          "color": "rgb(71, 234, 153)",
          "width": 4
         },
         "mode": "lines",
         "showlegend": false,
         "text": "Note: F4 (65)",
         "type": "scatter",
         "visible": true,
         "x": [
          744018.4238901612,
          910685.4238901612,
          null
         ],
         "y": [
          1633977.8641647561,
          1633977.8641647568,
          null
         ]
        },
        {
         "hoverinfo": "text",
         "legendgroup": "G4",
         "line": {
          "color": "rgb(71, 152, 234)",
          "width": 4
         },
         "mode": "lines",
         "name": "G4",
         "showlegend": true,
         "text": "Note: G4 (67)",
         "type": "scatter",
         "visible": true,
         "x": [
          910685.4238901612,
          994018.9238901613,
          null
         ],
         "y": [
          1633977.8641647568,
          1489640.0081922158,
          null
         ]
        },
        {
         "hoverinfo": "text",
         "legendgroup": "A4",
         "line": {
          "color": "rgb(152, 71, 234)",
          "width": 4
         },
         "mode": "lines",
         "showlegend": false,
         "text": "Note: A4 (69)",
         "type": "scatter",
         "visible": true,
         "x": [
          994018.9238901613,
          949662.4238901614,
          null
         ],
         "y": [
          1489640.0081922158,
          1412812.296546287,
          null
         ]
        },
        {
         "hoverinfo": "text",
         "legendgroup": "A4",
         "line": {
          "color": "rgb(152, 71, 234)",
          "width": 4
         },
         "mode": "lines",
         "showlegend": false,
         "text": "Note: A4 (69)",
         "type": "scatter",
         "visible": true,
         "x": [
          949662.4238901614,
          824541.4238901619,
          null
         ],
         "y": [
          1412812.296546287,
          1196096.3674524613,
          null
         ]
        },
        {
         "hoverinfo": "text",
         "legendgroup": "D4",
         "line": {
          "color": "rgb(234, 234, 71)",
          "width": 4
         },
         "mode": "lines",
         "showlegend": false,
         "text": "Note: D4 (62)",
         "type": "scatter",
         "visible": true,
         "x": [
          824541.4238901619,
          824541.4238901613,
          null
         ],
         "y": [
          1196096.3674524613,
          1529430.3674524613,
          null
         ]
        },
        {
         "hoverinfo": "text",
         "legendgroup": "F4",
         "line": {
          "color": "rgb(71, 234, 153)",
          "width": 4
         },
         "mode": "lines",
         "showlegend": false,
         "text": "Note: F4 (65)",
         "type": "scatter",
         "visible": true,
         "x": [
          824541.4238901613,
          991208.4238901613,
          null
         ],
         "y": [
          1529430.3674524613,
          1529430.367452462,
          null
         ]
        },
        {
         "hoverinfo": "text",
         "legendgroup": "G4",
         "line": {
          "color": "rgb(71, 152, 234)",
          "width": 4
         },
         "mode": "lines",
         "showlegend": false,
         "text": "Note: G4 (67)",
         "type": "scatter",
         "visible": true,
         "x": [
          991208.4238901613,
          1074541.9238901616,
          null
         ],
         "y": [
          1529430.367452462,
          1385092.511479921,
          null
         ]
        },
        {
         "hoverinfo": "text",
         "legendgroup": "E4",
         "line": {
          "color": "rgb(71, 234, 71)",
          "width": 4
         },
         "mode": "lines",
         "name": "E4",
         "showlegend": true,
         "text": "Note: E4 (64)",
         "type": "scatter",
         "visible": true,
         "x": [
          1074541.9238901616,
          1940569.059725406,
          null
         ],
         "y": [
          1385092.511479921,
          1885093.5114799235,
          null
         ]
        },
        {
         "hoverinfo": "text",
         "legendgroup": "D4",
         "line": {
          "color": "rgb(234, 234, 71)",
          "width": 4
         },
         "mode": "lines",
         "showlegend": false,
         "text": "Note: D4 (62)",
         "type": "scatter",
         "visible": true,
         "x": [
          1940569.059725406,
          1940569.0597254059,
          null
         ],
         "y": [
          1885093.5114799235,
          2051760.5114799235,
          null
         ]
        },
        {
         "hoverinfo": "text",
         "legendgroup": "F4",
         "line": {
          "color": "rgb(71, 234, 153)",
          "width": 4
         },
         "mode": "lines",
         "showlegend": false,
         "text": "Note: F4 (65)",
         "type": "scatter",
         "visible": true,
         "x": [
          1940569.0597254059,
          2107236.0597254056,
          null
         ],
         "y": [
          2051760.5114799235,
          2051760.5114799242,
          null
         ]
        },
        {
         "hoverinfo": "text",
         "legendgroup": "D5",
         "line": {
          "color": "rgb(237, 237, 94)",
          "width": 4
         },
         "mode": "lines",
         "showlegend": false,
         "text": "Note: D5 (74)",
         "type": "scatter",
         "visible": true,
         "x": [
          2107236.0597254056,
          2107236.0597254047,
          null
         ],
         "y": [
          2051760.5114799242,
          2718428.5114799244,
          null
         ]
        },
        {
         "hoverinfo": "text",
         "legendgroup": "D4",
         "line": {
          "color": "rgb(234, 234, 71)",
          "width": 4
         },
         "mode": "lines",
         "showlegend": false,
         "text": "Note: D4 (62)",
         "type": "scatter",
         "visible": true,
         "x": [
          2107236.0597254047,
          2107236.0597254043,
          null
         ],
         "y": [
          2718428.5114799244,
          2885095.5114799244,
          null
         ]
        },
        {
         "hoverinfo": "text",
         "legendgroup": "F4",
         "line": {
          "color": "rgb(71, 234, 153)",
          "width": 4
         },
         "mode": "lines",
         "showlegend": false,
         "text": "Note: F4 (65)",
         "type": "scatter",
         "visible": true,
         "x": [
          2107236.0597254043,
          2273903.0597254043,
          null
         ],
         "y": [
          2885095.5114799244,
          2885095.511479925,
          null
         ]
        },
        {
         "hoverinfo": "text",
         "legendgroup": "D5",
         "line": {
          "color": "rgb(237, 237, 94)",
          "width": 4
         },
         "mode": "lines",
         "showlegend": false,
         "text": "Note: D5 (74)",
         "type": "scatter",
         "visible": true,
         "x": [
          2273903.0597254043,
          2273903.0597254033,
          null
         ],
         "y": [
          2885095.511479925,
          3551763.511479925,
          null
         ]
        },
        {
         "hoverinfo": "text",
         "legendgroup": "E5",
         "line": {
          "color": "rgb(94, 237, 94)",
          "width": 4
         },
         "mode": "lines",
         "showlegend": false,
         "text": "Note: E5 (76)",
         "type": "scatter",
         "visible": true,
         "x": [
          2273903.0597254033,
          2706916.6276430255,
          null
         ],
         "y": [
          3551763.511479925,
          3801764.0114799263,
          null
         ]
        },
        {
         "hoverinfo": "text",
         "legendgroup": "F5",
         "line": {
          "color": "rgb(94, 237, 165)",
          "width": 4
         },
         "mode": "lines",
         "showlegend": false,
         "text": "Note: F5 (77)",
         "type": "scatter",
         "visible": true,
         "x": [
          2706916.6276430255,
          2873583.6276430255,
          null
         ],
         "y": [
          3801764.0114799263,
          3801764.0114799263,
          null
         ]
        },
        {
         "hoverinfo": "text",
         "legendgroup": "E5",
         "line": {
          "color": "rgb(94, 237, 94)",
          "width": 4
         },
         "mode": "lines",
         "showlegend": false,
         "text": "Note: E5 (76)",
         "type": "scatter",
         "visible": true,
         "x": [
          2873583.6276430255,
          3017921.483615566,
          null
         ],
         "y": [
          3801764.0114799263,
          3885097.5114799268,
          null
         ]
        },
        {
         "hoverinfo": "text",
         "legendgroup": "F5",
         "line": {
          "color": "rgb(94, 237, 165)",
          "width": 4
         },
         "mode": "lines",
         "showlegend": false,
         "text": "Note: F5 (77)",
         "type": "scatter",
         "visible": true,
         "x": [
          3017921.483615566,
          3184588.483615566,
          null
         ],
         "y": [
          3885097.5114799268,
          3885097.5114799268,
          null
         ]
        },
        {
         "hoverinfo": "text",
         "legendgroup": "E5",
         "line": {
          "color": "rgb(94, 237, 94)",
          "width": 4
         },
         "mode": "lines",
         "showlegend": false,
         "text": "Note: E5 (76)",
         "type": "scatter",
         "visible": true,
         "x": [
          3184588.483615566,
          3328926.3395881066,
          null
         ],
         "y": [
          3885097.5114799268,
          3968431.011479927,
          null
         ]
        },
        {
         "hoverinfo": "text",
         "legendgroup": "C5",
         "line": {
          "color": "rgb(237, 94, 94)",
          "width": 4
         },
         "mode": "lines",
         "showlegend": false,
         "text": "Note: C5 (72)",
         "type": "scatter",
         "visible": true,
         "x": [
          3328926.3395881066,
          3184588.4836155656,
          null
         ],
         "y": [
          3968431.011479927,
          4051764.511479927,
          null
         ]
        },
        {
         "hoverinfo": "text",
         "legendgroup": "A4",
         "line": {
          "color": "rgb(152, 71, 234)",
          "width": 4
         },
         "mode": "lines",
         "showlegend": false,
         "text": "Note: A4 (69)",
         "type": "scatter",
         "visible": true,
         "x": [
          3184588.4836155656,
          2851254.483615567,
          null
         ],
         "y": [
          4051764.511479927,
          3474413.087589762,
          null
         ]
        },
        {
         "hoverinfo": "text",
         "legendgroup": "A4",
         "line": {
          "color": "rgb(152, 71, 234)",
          "width": 4
         },
         "mode": "lines",
         "showlegend": false,
         "text": "Note: A4 (69)",
         "type": "scatter",
         "visible": true,
         "x": [
          2851254.483615567,
          2684587.4836155674,
          null
         ],
         "y": [
          3474413.087589762,
          3185737.3756446796,
          null
         ]
        },
        {
         "hoverinfo": "text",
         "legendgroup": "D4",
         "line": {
          "color": "rgb(234, 234, 71)",
          "width": 4
         },
         "mode": "lines",
         "showlegend": false,
         "text": "Note: D4 (62)",
         "type": "scatter",
         "visible": true,
         "x": [
          2684587.4836155674,
          2684587.483615567,
          null
         ],
         "y": [
          3185737.3756446796,
          3519071.3756446796,
          null
         ]
        },
        {
         "hoverinfo": "text",
         "legendgroup": "F4",
         "line": {
          "color": "rgb(71, 234, 153)",
          "width": 4
         },
         "mode": "lines",
         "showlegend": false,
         "text": "Note: F4 (65)",
         "type": "scatter",
         "visible": true,
         "x": [
          2684587.483615567,
          2851254.483615567,
          null
         ],
         "y": [
          3519071.3756446796,
          3519071.37564468,
          null
         ]
        },
        {
         "hoverinfo": "text",
         "legendgroup": "G4",
         "line": {
          "color": "rgb(71, 152, 234)",
          "width": 4
         },
         "mode": "lines",
         "showlegend": false,
         "text": "Note: G4 (67)",
         "type": "scatter",
         "visible": true,
         "x": [
          2851254.483615567,
          2934587.983615567,
          null
         ],
         "y": [
          3519071.37564468,
          3374733.519672139,
          null
         ]
        },
        {
         "hoverinfo": "text",
         "legendgroup": "A4",
         "line": {
          "color": "rgb(152, 71, 234)",
          "width": 4
         },
         "mode": "lines",
         "showlegend": false,
         "text": "Note: A4 (69)",
         "type": "scatter",
         "visible": true,
         "x": [
          2934587.983615567,
          2601253.9836155684,
          null
         ],
         "y": [
          3374733.519672139,
          2797382.0957819745,
          null
         ]
        },
        {
         "hoverinfo": "text",
         "legendgroup": "A4",
         "line": {
          "color": "rgb(152, 71, 234)",
          "width": 4
         },
         "mode": "lines",
         "showlegend": false,
         "text": "Note: A4 (69)",
         "type": "scatter",
         "visible": true,
         "x": [
          2601253.9836155684,
          2434586.983615569,
          null
         ],
         "y": [
          2797382.0957819745,
          2508706.383836892,
          null
         ]
        },
        {
         "hoverinfo": "text",
         "legendgroup": "D4",
         "line": {
          "color": "rgb(234, 234, 71)",
          "width": 4
         },
         "mode": "lines",
         "showlegend": false,
         "text": "Note: D4 (62)",
         "type": "scatter",
         "visible": true,
         "x": [
          2434586.983615569,
          2434586.9836155684,
          null
         ],
         "y": [
          2508706.383836892,
          2842040.383836892,
          null
         ]
        }
       ],
       "layout": {
        "height": 1200,
        "legend": {
         "itemclick": false,
         "itemdoubleclick": false,
         "traceorder": "grouped"
        },
        "showlegend": true,
        "template": {
         "data": {
          "bar": [
           {
            "error_x": {
             "color": "#f2f5fa"
            },
            "error_y": {
             "color": "#f2f5fa"
            },
            "marker": {
             "line": {
              "color": "rgb(17,17,17)",
              "width": 0.5
             },
             "pattern": {
              "fillmode": "overlay",
              "size": 10,
              "solidity": 0.2
             }
            },
            "type": "bar"
           }
          ],
          "barpolar": [
           {
            "marker": {
             "line": {
              "color": "rgb(17,17,17)",
              "width": 0.5
             },
             "pattern": {
              "fillmode": "overlay",
              "size": 10,
              "solidity": 0.2
             }
            },
            "type": "barpolar"
           }
          ],
          "carpet": [
           {
            "aaxis": {
             "endlinecolor": "#A2B1C6",
             "gridcolor": "#506784",
             "linecolor": "#506784",
             "minorgridcolor": "#506784",
             "startlinecolor": "#A2B1C6"
            },
            "baxis": {
             "endlinecolor": "#A2B1C6",
             "gridcolor": "#506784",
             "linecolor": "#506784",
             "minorgridcolor": "#506784",
             "startlinecolor": "#A2B1C6"
            },
            "type": "carpet"
           }
          ],
          "choropleth": [
           {
            "colorbar": {
             "outlinewidth": 0,
             "ticks": ""
            },
            "type": "choropleth"
           }
          ],
          "contour": [
           {
            "colorbar": {
             "outlinewidth": 0,
             "ticks": ""
            },
            "colorscale": [
             [
              0,
              "#0d0887"
             ],
             [
              0.1111111111111111,
              "#46039f"
             ],
             [
              0.2222222222222222,
              "#7201a8"
             ],
             [
              0.3333333333333333,
              "#9c179e"
             ],
             [
              0.4444444444444444,
              "#bd3786"
             ],
             [
              0.5555555555555556,
              "#d8576b"
             ],
             [
              0.6666666666666666,
              "#ed7953"
             ],
             [
              0.7777777777777778,
              "#fb9f3a"
             ],
             [
              0.8888888888888888,
              "#fdca26"
             ],
             [
              1,
              "#f0f921"
             ]
            ],
            "type": "contour"
           }
          ],
          "contourcarpet": [
           {
            "colorbar": {
             "outlinewidth": 0,
             "ticks": ""
            },
            "type": "contourcarpet"
           }
          ],
          "heatmap": [
           {
            "colorbar": {
             "outlinewidth": 0,
             "ticks": ""
            },
            "colorscale": [
             [
              0,
              "#0d0887"
             ],
             [
              0.1111111111111111,
              "#46039f"
             ],
             [
              0.2222222222222222,
              "#7201a8"
             ],
             [
              0.3333333333333333,
              "#9c179e"
             ],
             [
              0.4444444444444444,
              "#bd3786"
             ],
             [
              0.5555555555555556,
              "#d8576b"
             ],
             [
              0.6666666666666666,
              "#ed7953"
             ],
             [
              0.7777777777777778,
              "#fb9f3a"
             ],
             [
              0.8888888888888888,
              "#fdca26"
             ],
             [
              1,
              "#f0f921"
             ]
            ],
            "type": "heatmap"
           }
          ],
          "histogram": [
           {
            "marker": {
             "pattern": {
              "fillmode": "overlay",
              "size": 10,
              "solidity": 0.2
             }
            },
            "type": "histogram"
           }
          ],
          "histogram2d": [
           {
            "colorbar": {
             "outlinewidth": 0,
             "ticks": ""
            },
            "colorscale": [
             [
              0,
              "#0d0887"
             ],
             [
              0.1111111111111111,
              "#46039f"
             ],
             [
              0.2222222222222222,
              "#7201a8"
             ],
             [
              0.3333333333333333,
              "#9c179e"
             ],
             [
              0.4444444444444444,
              "#bd3786"
             ],
             [
              0.5555555555555556,
              "#d8576b"
             ],
             [
              0.6666666666666666,
              "#ed7953"
             ],
             [
              0.7777777777777778,
              "#fb9f3a"
             ],
             [
              0.8888888888888888,
              "#fdca26"
             ],
             [
              1,
              "#f0f921"
             ]
            ],
            "type": "histogram2d"
           }
          ],
          "histogram2dcontour": [
           {
            "colorbar": {
             "outlinewidth": 0,
             "ticks": ""
            },
            "colorscale": [
             [
              0,
              "#0d0887"
             ],
             [
              0.1111111111111111,
              "#46039f"
             ],
             [
              0.2222222222222222,
              "#7201a8"
             ],
             [
              0.3333333333333333,
              "#9c179e"
             ],
             [
              0.4444444444444444,
              "#bd3786"
             ],
             [
              0.5555555555555556,
              "#d8576b"
             ],
             [
              0.6666666666666666,
              "#ed7953"
             ],
             [
              0.7777777777777778,
              "#fb9f3a"
             ],
             [
              0.8888888888888888,
              "#fdca26"
             ],
             [
              1,
              "#f0f921"
             ]
            ],
            "type": "histogram2dcontour"
           }
          ],
          "mesh3d": [
           {
            "colorbar": {
             "outlinewidth": 0,
             "ticks": ""
            },
            "type": "mesh3d"
           }
          ],
          "parcoords": [
           {
            "line": {
             "colorbar": {
              "outlinewidth": 0,
              "ticks": ""
             }
            },
            "type": "parcoords"
           }
          ],
          "pie": [
           {
            "automargin": true,
            "type": "pie"
           }
          ],
          "scatter": [
           {
            "marker": {
             "line": {
              "color": "#283442"
             }
            },
            "type": "scatter"
           }
          ],
          "scatter3d": [
           {
            "line": {
             "colorbar": {
              "outlinewidth": 0,
              "ticks": ""
             }
            },
            "marker": {
             "colorbar": {
              "outlinewidth": 0,
              "ticks": ""
             }
            },
            "type": "scatter3d"
           }
          ],
          "scattercarpet": [
           {
            "marker": {
             "colorbar": {
              "outlinewidth": 0,
              "ticks": ""
             }
            },
            "type": "scattercarpet"
           }
          ],
          "scattergeo": [
           {
            "marker": {
             "colorbar": {
              "outlinewidth": 0,
              "ticks": ""
             }
            },
            "type": "scattergeo"
           }
          ],
          "scattergl": [
           {
            "marker": {
             "line": {
              "color": "#283442"
             }
            },
            "type": "scattergl"
           }
          ],
          "scattermap": [
           {
            "marker": {
             "colorbar": {
              "outlinewidth": 0,
              "ticks": ""
             }
            },
            "type": "scattermap"
           }
          ],
          "scattermapbox": [
           {
            "marker": {
             "colorbar": {
              "outlinewidth": 0,
              "ticks": ""
             }
            },
            "type": "scattermapbox"
           }
          ],
          "scatterpolar": [
           {
            "marker": {
             "colorbar": {
              "outlinewidth": 0,
              "ticks": ""
             }
            },
            "type": "scatterpolar"
           }
          ],
          "scatterpolargl": [
           {
            "marker": {
             "colorbar": {
              "outlinewidth": 0,
              "ticks": ""
             }
            },
            "type": "scatterpolargl"
           }
          ],
          "scatterternary": [
           {
            "marker": {
             "colorbar": {
              "outlinewidth": 0,
              "ticks": ""
             }
            },
            "type": "scatterternary"
           }
          ],
          "surface": [
           {
            "colorbar": {
             "outlinewidth": 0,
             "ticks": ""
            },
            "colorscale": [
             [
              0,
              "#0d0887"
             ],
             [
              0.1111111111111111,
              "#46039f"
             ],
             [
              0.2222222222222222,
              "#7201a8"
             ],
             [
              0.3333333333333333,
              "#9c179e"
             ],
             [
              0.4444444444444444,
              "#bd3786"
             ],
             [
              0.5555555555555556,
              "#d8576b"
             ],
             [
              0.6666666666666666,
              "#ed7953"
             ],
             [
              0.7777777777777778,
              "#fb9f3a"
             ],
             [
              0.8888888888888888,
              "#fdca26"
             ],
             [
              1,
              "#f0f921"
             ]
            ],
            "type": "surface"
           }
          ],
          "table": [
           {
            "cells": {
             "fill": {
              "color": "#506784"
             },
             "line": {
              "color": "rgb(17,17,17)"
             }
            },
            "header": {
             "fill": {
              "color": "#2a3f5f"
             },
             "line": {
              "color": "rgb(17,17,17)"
             }
            },
            "type": "table"
           }
          ]
         },
         "layout": {
          "annotationdefaults": {
           "arrowcolor": "#f2f5fa",
           "arrowhead": 0,
           "arrowwidth": 1
          },
          "autotypenumbers": "strict",
          "coloraxis": {
           "colorbar": {
            "outlinewidth": 0,
            "ticks": ""
           }
          },
          "colorscale": {
           "diverging": [
            [
             0,
             "#8e0152"
            ],
            [
             0.1,
             "#c51b7d"
            ],
            [
             0.2,
             "#de77ae"
            ],
            [
             0.3,
             "#f1b6da"
            ],
            [
             0.4,
             "#fde0ef"
            ],
            [
             0.5,
             "#f7f7f7"
            ],
            [
             0.6,
             "#e6f5d0"
            ],
            [
             0.7,
             "#b8e186"
            ],
            [
             0.8,
             "#7fbc41"
            ],
            [
             0.9,
             "#4d9221"
            ],
            [
             1,
             "#276419"
            ]
           ],
           "sequential": [
            [
             0,
             "#0d0887"
            ],
            [
             0.1111111111111111,
             "#46039f"
            ],
            [
             0.2222222222222222,
             "#7201a8"
            ],
            [
             0.3333333333333333,
             "#9c179e"
            ],
            [
             0.4444444444444444,
             "#bd3786"
            ],
            [
             0.5555555555555556,
             "#d8576b"
            ],
            [
             0.6666666666666666,
             "#ed7953"
            ],
            [
             0.7777777777777778,
             "#fb9f3a"
            ],
            [
             0.8888888888888888,
             "#fdca26"
            ],
            [
             1,
             "#f0f921"
            ]
           ],
           "sequentialminus": [
            [
             0,
             "#0d0887"
            ],
            [
             0.1111111111111111,
             "#46039f"
            ],
            [
             0.2222222222222222,
             "#7201a8"
            ],
            [
             0.3333333333333333,
             "#9c179e"
            ],
            [
             0.4444444444444444,
             "#bd3786"
            ],
            [
             0.5555555555555556,
             "#d8576b"
            ],
            [
             0.6666666666666666,
             "#ed7953"
            ],
            [
             0.7777777777777778,
             "#fb9f3a"
            ],
            [
             0.8888888888888888,
             "#fdca26"
            ],
            [
             1,
             "#f0f921"
            ]
           ]
          },
          "colorway": [
           "#636efa",
           "#EF553B",
           "#00cc96",
           "#ab63fa",
           "#FFA15A",
           "#19d3f3",
           "#FF6692",
           "#B6E880",
           "#FF97FF",
           "#FECB52"
          ],
          "font": {
           "color": "#f2f5fa"
          },
          "geo": {
           "bgcolor": "rgb(17,17,17)",
           "lakecolor": "rgb(17,17,17)",
           "landcolor": "rgb(17,17,17)",
           "showlakes": true,
           "showland": true,
           "subunitcolor": "#506784"
          },
          "hoverlabel": {
           "align": "left"
          },
          "hovermode": "closest",
          "mapbox": {
           "style": "dark"
          },
          "paper_bgcolor": "rgb(17,17,17)",
          "plot_bgcolor": "rgb(17,17,17)",
          "polar": {
           "angularaxis": {
            "gridcolor": "#506784",
            "linecolor": "#506784",
            "ticks": ""
           },
           "bgcolor": "rgb(17,17,17)",
           "radialaxis": {
            "gridcolor": "#506784",
            "linecolor": "#506784",
            "ticks": ""
           }
          },
          "scene": {
           "xaxis": {
            "backgroundcolor": "rgb(17,17,17)",
            "gridcolor": "#506784",
            "gridwidth": 2,
            "linecolor": "#506784",
            "showbackground": true,
            "ticks": "",
            "zerolinecolor": "#C8D4E3"
           },
           "yaxis": {
            "backgroundcolor": "rgb(17,17,17)",
            "gridcolor": "#506784",
            "gridwidth": 2,
            "linecolor": "#506784",
            "showbackground": true,
            "ticks": "",
            "zerolinecolor": "#C8D4E3"
           },
           "zaxis": {
            "backgroundcolor": "rgb(17,17,17)",
            "gridcolor": "#506784",
            "gridwidth": 2,
            "linecolor": "#506784",
            "showbackground": true,
            "ticks": "",
            "zerolinecolor": "#C8D4E3"
           }
          },
          "shapedefaults": {
           "line": {
            "color": "#f2f5fa"
           }
          },
          "sliderdefaults": {
           "bgcolor": "#C8D4E3",
           "bordercolor": "rgb(17,17,17)",
           "borderwidth": 1,
           "tickwidth": 0
          },
          "ternary": {
           "aaxis": {
            "gridcolor": "#506784",
            "linecolor": "#506784",
            "ticks": ""
           },
           "baxis": {
            "gridcolor": "#506784",
            "linecolor": "#506784",
            "ticks": ""
           },
           "bgcolor": "rgb(17,17,17)",
           "caxis": {
            "gridcolor": "#506784",
            "linecolor": "#506784",
            "ticks": ""
           }
          },
          "title": {
           "x": 0.05
          },
          "updatemenudefaults": {
           "bgcolor": "#506784",
           "borderwidth": 0
          },
          "xaxis": {
           "automargin": true,
           "gridcolor": "#283442",
           "linecolor": "#506784",
           "ticks": "",
           "title": {
            "standoff": 15
           },
           "zerolinecolor": "#283442",
           "zerolinewidth": 2
          },
          "yaxis": {
           "automargin": true,
           "gridcolor": "#283442",
           "linecolor": "#506784",
           "ticks": "",
           "title": {
            "standoff": 15
           },
           "zerolinecolor": "#283442",
           "zerolinewidth": 2
          }
         }
        },
        "title": {
         "text": "Line Segments Colored by MIDI Note (Unique Legend Entries)"
        },
        "width": 1200,
        "xaxis": {
         "title": {
          "text": "X"
         }
        },
        "yaxis": {
         "title": {
          "text": "Y"
         }
        }
       }
      }
     },
     "metadata": {},
     "output_type": "display_data"
    }
   ],
   "source": [
    "import pandas as pd\n",
    "import plotly.graph_objects as go\n",
    "import colorsys\n",
    "\n",
    "# Music notation for the 12 pitch classes\n",
    "note_names = ['C', 'C#', 'D', 'D#', 'E', 'F', 'F#', 'G', 'G#', 'A', 'A#', 'B']\n",
    "\n",
    "# Define color map function\n",
    "def midi_note_to_color(note):\n",
    "    \"\"\"Map a MIDI note to a color using HSL with octave-based brightness.\"\"\"\n",
    "    semitone = note % 12\n",
    "    octave = note // 12 - 1\n",
    "    hue = semitone * (360 / 12) / 360  # Normalized hue\n",
    "    base_lightness = 0.4\n",
    "    lightness_step = 0.05\n",
    "    lightness = min(base_lightness + octave * lightness_step, 0.9)\n",
    "    saturation = 0.8\n",
    "    r, g, b = colorsys.hls_to_rgb(hue, lightness, saturation)\n",
    "    return f'rgb({int(r*255)}, {int(g*255)}, {int(b*255)})', note_names[semitone]\n",
    "\n",
    "# Assign colors and note names\n",
    "df[['color', 'note_name']] = df['note'].apply(lambda n: pd.Series(midi_note_to_color(n)))\n",
    "\n",
    "# Initialize Plotly figure\n",
    "fig = go.Figure()\n",
    "\n",
    "# Track which notes have been added to the legend\n",
    "legend_added = set()\n",
    "\n",
    "# Plot each segment as a single line segment with hover info\n",
    "for _, row in df.iterrows():\n",
    "    note_label = f'{row[\"note_name\"]}{row[\"note\"] // 12 - 1}'\n",
    "    fig.add_trace(go.Scatter(\n",
    "        x=[row['x1'], row['x2'], None],  # Add None to prevent connecting lines between segments\n",
    "        y=[row['y1'], row['y2'], None],\n",
    "        mode='lines',\n",
    "        line=dict(color=row['color'], width=4),\n",
    "        name=note_label if note_label not in legend_added else None,  # Only show legend once per note\n",
    "        hoverinfo='text',\n",
    "        text=f'Note: {note_label} ({row[\"note\"]})',\n",
    "        legendgroup=note_label,  # Group all segments of the same note\n",
    "        showlegend=note_label not in legend_added,  # Show legend only for the first occurrence\n",
    "    ))\n",
    "    legend_added.add(note_label)  # Mark this note as added to the legend\n",
    "\n",
    "# Layout adjustments\n",
    "fig.update_layout(\n",
    "    title=\"Line Segments Colored by MIDI Note (Unique Legend Entries)\",\n",
    "    xaxis_title=\"X\",\n",
    "    yaxis_title=\"Y\",\n",
    "    template=\"plotly_dark\",\n",
    "    width=1200,\n",
    "    height=1200,\n",
    "    showlegend=True,\n",
    "    legend_traceorder=\"grouped\",\n",
    "    legend_itemclick=False,\n",
    "    legend_itemdoubleclick=False,\n",
    ")\n",
    "\n",
    "fig.update_traces(\n",
    "    selector=dict(type='scatter'),\n",
    "    visible=True\n",
    ")\n",
    "\n",
    "fig.show()\n"
   ]
  },
  {
   "cell_type": "code",
   "execution_count": null,
   "metadata": {},
   "outputs": [],
   "source": []
  }
 ],
 "metadata": {
  "kernelspec": {
   "display_name": ".venv",
   "language": "python",
   "name": "python3"
  },
  "language_info": {
   "codemirror_mode": {
    "name": "ipython",
    "version": 3
   },
   "file_extension": ".py",
   "mimetype": "text/x-python",
   "name": "python",
   "nbconvert_exporter": "python",
   "pygments_lexer": "ipython3",
   "version": "3.13.5"
  }
 },
 "nbformat": 4,
 "nbformat_minor": 2
}
